{
 "cells": [
  {
   "cell_type": "code",
   "execution_count": 1,
   "id": "6fad0185-3c63-4d42-991f-aee08051af9e",
   "metadata": {},
   "outputs": [],
   "source": [
    "import numpy as np\n",
    "import pandas as pd\n",
    "import seaborn as sns\n",
    "import matplotlib.pyplot as plt"
   ]
  },
  {
   "cell_type": "code",
   "execution_count": 2,
   "id": "bf18657a-cd2e-45f1-bb38-0f744d2e3110",
   "metadata": {},
   "outputs": [
    {
     "data": {
      "text/html": [
       "<div>\n",
       "<style scoped>\n",
       "    .dataframe tbody tr th:only-of-type {\n",
       "        vertical-align: middle;\n",
       "    }\n",
       "\n",
       "    .dataframe tbody tr th {\n",
       "        vertical-align: top;\n",
       "    }\n",
       "\n",
       "    .dataframe thead th {\n",
       "        text-align: right;\n",
       "    }\n",
       "</style>\n",
       "<table border=\"1\" class=\"dataframe\">\n",
       "  <thead>\n",
       "    <tr style=\"text-align: right;\">\n",
       "      <th></th>\n",
       "      <th>sales</th>\n",
       "      <th>Total spend</th>\n",
       "    </tr>\n",
       "  </thead>\n",
       "  <tbody>\n",
       "    <tr>\n",
       "      <th>0</th>\n",
       "      <td>22100</td>\n",
       "      <td>337100</td>\n",
       "    </tr>\n",
       "    <tr>\n",
       "      <th>1</th>\n",
       "      <td>10400</td>\n",
       "      <td>128900</td>\n",
       "    </tr>\n",
       "    <tr>\n",
       "      <th>2</th>\n",
       "      <td>9300</td>\n",
       "      <td>132400</td>\n",
       "    </tr>\n",
       "    <tr>\n",
       "      <th>3</th>\n",
       "      <td>18500</td>\n",
       "      <td>251300</td>\n",
       "    </tr>\n",
       "    <tr>\n",
       "      <th>4</th>\n",
       "      <td>12900</td>\n",
       "      <td>250000</td>\n",
       "    </tr>\n",
       "  </tbody>\n",
       "</table>\n",
       "</div>"
      ],
      "text/plain": [
       "   sales  Total spend\n",
       "0  22100       337100\n",
       "1  10400       128900\n",
       "2   9300       132400\n",
       "3  18500       251300\n",
       "4  12900       250000"
      ]
     },
     "execution_count": 2,
     "metadata": {},
     "output_type": "execute_result"
    }
   ],
   "source": [
    "df = pd.read_excel('cleaned_data.xlsx')\n",
    "df.head()"
   ]
  },
  {
   "cell_type": "code",
   "execution_count": 9,
   "id": "985807e8-1cc6-4c6e-8032-7db552c7ffeb",
   "metadata": {},
   "outputs": [],
   "source": [
    "# input should be 2d array or dataframe\n",
    "X = df[['Total spend']]\n",
    "y = df['sales']"
   ]
  },
  {
   "cell_type": "code",
   "execution_count": 10,
   "id": "642c1132-1ad4-4053-b1ff-4c54e1d4f273",
   "metadata": {},
   "outputs": [],
   "source": [
    "from sklearn.model_selection import train_test_split\n",
    "X_train,X_test,y_train,y_test = train_test_split(X,y,train_size=0.8,random_state=True)"
   ]
  },
  {
   "cell_type": "markdown",
   "id": "524c6c67-8149-4f88-a37c-89b78206af0d",
   "metadata": {},
   "source": [
    "# 4) Modelling "
   ]
  },
  {
   "cell_type": "code",
   "execution_count": 11,
   "id": "ce7c5ef8-cd01-4061-9a10-035a45c3d1a3",
   "metadata": {},
   "outputs": [
    {
     "name": "stdout",
     "output_type": "stream",
     "text": [
      "Coefficents : [0.05012858]\n",
      "Intercept : 4008.762867242771\n"
     ]
    }
   ],
   "source": [
    "from sklearn.linear_model import LinearRegression\n",
    "model = LinearRegression()\n",
    "model.fit(X_train,y_train)\n",
    "\n",
    "print('Coefficents :',model.coef_)\n",
    "print('Intercept :',model.intercept_)"
   ]
  },
  {
   "cell_type": "code",
   "execution_count": 12,
   "id": "419e7942-7644-4839-b6a0-7e9e1c7d8bc7",
   "metadata": {},
   "outputs": [
    {
     "data": {
      "text/html": [
       "<table class=\"simpletable\">\n",
       "<caption>OLS Regression Results</caption>\n",
       "<tr>\n",
       "  <th>Dep. Variable:</th>         <td>y_train</td>     <th>  R-squared:         </th> <td>   0.784</td>\n",
       "</tr>\n",
       "<tr>\n",
       "  <th>Model:</th>                   <td>OLS</td>       <th>  Adj. R-squared:    </th> <td>   0.783</td>\n",
       "</tr>\n",
       "<tr>\n",
       "  <th>Method:</th>             <td>Least Squares</td>  <th>  F-statistic:       </th> <td>   574.4</td>\n",
       "</tr>\n",
       "<tr>\n",
       "  <th>Date:</th>             <td>Fri, 27 Dec 2024</td> <th>  Prob (F-statistic):</th> <td>1.71e-54</td>\n",
       "</tr>\n",
       "<tr>\n",
       "  <th>Time:</th>                 <td>16:49:00</td>     <th>  Log-Likelihood:    </th> <td> -1478.9</td>\n",
       "</tr>\n",
       "<tr>\n",
       "  <th>No. Observations:</th>      <td>   160</td>      <th>  AIC:               </th> <td>   2962.</td>\n",
       "</tr>\n",
       "<tr>\n",
       "  <th>Df Residuals:</th>          <td>   158</td>      <th>  BIC:               </th> <td>   2968.</td>\n",
       "</tr>\n",
       "<tr>\n",
       "  <th>Df Model:</th>              <td>     1</td>      <th>                     </th>     <td> </td>   \n",
       "</tr>\n",
       "<tr>\n",
       "  <th>Covariance Type:</th>      <td>nonrobust</td>    <th>                     </th>     <td> </td>   \n",
       "</tr>\n",
       "</table>\n",
       "<table class=\"simpletable\">\n",
       "<tr>\n",
       "      <td></td>         <th>coef</th>     <th>std err</th>      <th>t</th>      <th>P>|t|</th>  <th>[0.025</th>    <th>0.975]</th>  \n",
       "</tr>\n",
       "<tr>\n",
       "  <th>Intercept</th> <td> 4008.7629</td> <td>  454.839</td> <td>    8.814</td> <td> 0.000</td> <td> 3110.414</td> <td> 4907.112</td>\n",
       "</tr>\n",
       "<tr>\n",
       "  <th>X_train</th>   <td>    0.0501</td> <td>    0.002</td> <td>   23.966</td> <td> 0.000</td> <td>    0.046</td> <td>    0.054</td>\n",
       "</tr>\n",
       "</table>\n",
       "<table class=\"simpletable\">\n",
       "<tr>\n",
       "  <th>Omnibus:</th>       <td> 6.431</td> <th>  Durbin-Watson:     </th> <td>   1.910</td>\n",
       "</tr>\n",
       "<tr>\n",
       "  <th>Prob(Omnibus):</th> <td> 0.040</td> <th>  Jarque-Bera (JB):  </th> <td>   6.139</td>\n",
       "</tr>\n",
       "<tr>\n",
       "  <th>Skew:</th>          <td>-0.401</td> <th>  Prob(JB):          </th> <td>  0.0464</td>\n",
       "</tr>\n",
       "<tr>\n",
       "  <th>Kurtosis:</th>      <td> 3.526</td> <th>  Cond. No.          </th> <td>4.97e+05</td>\n",
       "</tr>\n",
       "</table><br/><br/>Notes:<br/>[1] Standard Errors assume that the covariance matrix of the errors is correctly specified.<br/>[2] The condition number is large, 4.97e+05. This might indicate that there are<br/>strong multicollinearity or other numerical problems."
      ],
      "text/latex": [
       "\\begin{center}\n",
       "\\begin{tabular}{lclc}\n",
       "\\toprule\n",
       "\\textbf{Dep. Variable:}    &     y\\_train     & \\textbf{  R-squared:         } &     0.784   \\\\\n",
       "\\textbf{Model:}            &       OLS        & \\textbf{  Adj. R-squared:    } &     0.783   \\\\\n",
       "\\textbf{Method:}           &  Least Squares   & \\textbf{  F-statistic:       } &     574.4   \\\\\n",
       "\\textbf{Date:}             & Fri, 27 Dec 2024 & \\textbf{  Prob (F-statistic):} &  1.71e-54   \\\\\n",
       "\\textbf{Time:}             &     16:49:00     & \\textbf{  Log-Likelihood:    } &   -1478.9   \\\\\n",
       "\\textbf{No. Observations:} &         160      & \\textbf{  AIC:               } &     2962.   \\\\\n",
       "\\textbf{Df Residuals:}     &         158      & \\textbf{  BIC:               } &     2968.   \\\\\n",
       "\\textbf{Df Model:}         &           1      & \\textbf{                     } &             \\\\\n",
       "\\textbf{Covariance Type:}  &    nonrobust     & \\textbf{                     } &             \\\\\n",
       "\\bottomrule\n",
       "\\end{tabular}\n",
       "\\begin{tabular}{lcccccc}\n",
       "                   & \\textbf{coef} & \\textbf{std err} & \\textbf{t} & \\textbf{P$> |$t$|$} & \\textbf{[0.025} & \\textbf{0.975]}  \\\\\n",
       "\\midrule\n",
       "\\textbf{Intercept} &    4008.7629  &      454.839     &     8.814  &         0.000        &     3110.414    &     4907.112     \\\\\n",
       "\\textbf{X\\_train}  &       0.0501  &        0.002     &    23.966  &         0.000        &        0.046    &        0.054     \\\\\n",
       "\\bottomrule\n",
       "\\end{tabular}\n",
       "\\begin{tabular}{lclc}\n",
       "\\textbf{Omnibus:}       &  6.431 & \\textbf{  Durbin-Watson:     } &    1.910  \\\\\n",
       "\\textbf{Prob(Omnibus):} &  0.040 & \\textbf{  Jarque-Bera (JB):  } &    6.139  \\\\\n",
       "\\textbf{Skew:}          & -0.401 & \\textbf{  Prob(JB):          } &   0.0464  \\\\\n",
       "\\textbf{Kurtosis:}      &  3.526 & \\textbf{  Cond. No.          } & 4.97e+05  \\\\\n",
       "\\bottomrule\n",
       "\\end{tabular}\n",
       "%\\caption{OLS Regression Results}\n",
       "\\end{center}\n",
       "\n",
       "Notes: \\newline\n",
       " [1] Standard Errors assume that the covariance matrix of the errors is correctly specified. \\newline\n",
       " [2] The condition number is large, 4.97e+05. This might indicate that there are \\newline\n",
       " strong multicollinearity or other numerical problems."
      ],
      "text/plain": [
       "<class 'statsmodels.iolib.summary.Summary'>\n",
       "\"\"\"\n",
       "                            OLS Regression Results                            \n",
       "==============================================================================\n",
       "Dep. Variable:                y_train   R-squared:                       0.784\n",
       "Model:                            OLS   Adj. R-squared:                  0.783\n",
       "Method:                 Least Squares   F-statistic:                     574.4\n",
       "Date:                Fri, 27 Dec 2024   Prob (F-statistic):           1.71e-54\n",
       "Time:                        16:49:00   Log-Likelihood:                -1478.9\n",
       "No. Observations:                 160   AIC:                             2962.\n",
       "Df Residuals:                     158   BIC:                             2968.\n",
       "Df Model:                           1                                         \n",
       "Covariance Type:            nonrobust                                         \n",
       "==============================================================================\n",
       "                 coef    std err          t      P>|t|      [0.025      0.975]\n",
       "------------------------------------------------------------------------------\n",
       "Intercept   4008.7629    454.839      8.814      0.000    3110.414    4907.112\n",
       "X_train        0.0501      0.002     23.966      0.000       0.046       0.054\n",
       "==============================================================================\n",
       "Omnibus:                        6.431   Durbin-Watson:                   1.910\n",
       "Prob(Omnibus):                  0.040   Jarque-Bera (JB):                6.139\n",
       "Skew:                          -0.401   Prob(JB):                       0.0464\n",
       "Kurtosis:                       3.526   Cond. No.                     4.97e+05\n",
       "==============================================================================\n",
       "\n",
       "Notes:\n",
       "[1] Standard Errors assume that the covariance matrix of the errors is correctly specified.\n",
       "[2] The condition number is large, 4.97e+05. This might indicate that there are\n",
       "strong multicollinearity or other numerical problems.\n",
       "\"\"\""
      ]
     },
     "execution_count": 12,
     "metadata": {},
     "output_type": "execute_result"
    }
   ],
   "source": [
    "from sklearn.model_selection import train_test_split\n",
    "df_train,df_test = train_test_split(df,train_size=0.8,random_state=True)\n",
    "\n",
    "import statsmodels.formula.api as smf\n",
    "model1 = smf.ols('y_train~X_train',data=df_train).fit()\n",
    "model1.summary()"
   ]
  },
  {
   "cell_type": "markdown",
   "id": "ba990951-3614-4474-9892-c00d57641e20",
   "metadata": {},
   "source": [
    "# 5 ) Evaluation\n",
    "### calculate Train accuracy and Train Rmse"
   ]
  },
  {
   "cell_type": "code",
   "execution_count": 14,
   "id": "03e93959-8908-4e86-952f-f71be071614e",
   "metadata": {},
   "outputs": [
    {
     "name": "stdout",
     "output_type": "stream",
     "text": [
      "Train RMSE :  2500.8686613148743\n",
      "Train R2 :  0.7842622790832501\n"
     ]
    }
   ],
   "source": [
    "# prediction on train data\n",
    "ypred_train = model.predict(X_train)\n",
    "\n",
    "#evaluation\n",
    "from sklearn.metrics import mean_squared_error\n",
    "print('Train RMSE : ',np.sqrt(mean_squared_error(y_train,ypred_train)))\n",
    "\n",
    "from sklearn.metrics import r2_score\n",
    "print('Train R2 : ',r2_score(y_train,ypred_train))"
   ]
  },
  {
   "cell_type": "markdown",
   "id": "64bfbab8-7211-4830-a893-0897f42a40d5",
   "metadata": {},
   "source": [
    "### cross validation score"
   ]
  },
  {
   "cell_type": "code",
   "execution_count": 15,
   "id": "fe4c02bd-2570-47f9-8ce2-badd048b03db",
   "metadata": {},
   "outputs": [
    {
     "name": "stdout",
     "output_type": "stream",
     "text": [
      "CV Score :  0.7694233852989776\n"
     ]
    }
   ],
   "source": [
    "from sklearn.model_selection import cross_val_score\n",
    "print('CV Score : ',cross_val_score(model,X_train,y_train,cv=5,scoring= 'r2').mean())"
   ]
  },
  {
   "cell_type": "markdown",
   "id": "fbaa791c-cf1f-4440-9169-76e1db3e7980",
   "metadata": {},
   "source": [
    "### Calculate Test accuracy and Test Rmse"
   ]
  },
  {
   "cell_type": "code",
   "execution_count": 16,
   "id": "b158ebad-a9ab-4762-a0ff-22d85bb69c2b",
   "metadata": {},
   "outputs": [
    {
     "name": "stdout",
     "output_type": "stream",
     "text": [
      "Test Rmse :  2923.7294715837625\n",
      "Test R2 :  0.539781153461508\n"
     ]
    }
   ],
   "source": [
    "# prediction on test data\n",
    "ypred_test = model.predict(X_test)\n",
    "\n",
    "#evaluation\n",
    "print('Test Rmse : ',np.sqrt(mean_squared_error(y_test,ypred_test)))\n",
    "print('Test R2 : ',r2_score(y_test,ypred_test))"
   ]
  },
  {
   "cell_type": "markdown",
   "id": "ebe39b06-2ce1-47b1-8c5b-59808bb69165",
   "metadata": {},
   "source": [
    "## Linearity of errors"
   ]
  },
  {
   "cell_type": "code",
   "execution_count": 23,
   "id": "19c47882-c6d8-4d07-8eec-5614f92accf6",
   "metadata": {},
   "outputs": [
    {
     "data": {
      "image/png": "[encoded data removed]",
      "text/plain": [
       "<Figure size 640x480 with 1 Axes>"
      ]
     },
     "metadata": {},
     "output_type": "display_data"
    }
   ],
   "source": [
    "train_error = y_train - ypred_train\n",
    "\n",
    "plt.scatter(y_train,train_error)\n",
    "plt.xlabel('obserbed Values')\n",
    "plt.ylabel('fitted_values')\n",
    "plt.show()"
   ]
  },
  {
   "cell_type": "markdown",
   "id": "e29a59fb-5c28-4293-80eb-848d2f1c556e",
   "metadata": {},
   "source": [
    "### Normality of Errors"
   ]
  },
  {
   "cell_type": "code",
   "execution_count": 21,
   "id": "9e13d754-9259-4306-8df2-f0524f902d29",
   "metadata": {},
   "outputs": [
    {
     "data": {
      "text/plain": [
       "-0.40516188829522337"
      ]
     },
     "execution_count": 21,
     "metadata": {},
     "output_type": "execute_result"
    }
   ],
   "source": [
    "train_error.skew()"
   ]
  },
  {
   "cell_type": "markdown",
   "id": "cf91ebb2-8b33-4445-9ca8-5872cea8cea6",
   "metadata": {},
   "source": [
    "#### Equal variance of errors"
   ]
  },
  {
   "cell_type": "code",
   "execution_count": 24,
   "id": "47b61f03-7b8f-49c5-89db-bb49f1ef1046",
   "metadata": {},
   "outputs": [
    {
     "data": {
      "image/png": "[encoded data removed]",
      "text/plain": [
       "<Figure size 640x480 with 1 Axes>"
      ]
     },
     "metadata": {},
     "output_type": "display_data"
    }
   ],
   "source": [
    "plt.scatter(ypred_train,train_error,c='r')\n",
    "plt.axhline(y=0,color = 'blue')\n",
    "plt.xlabel('fitted_values')\n",
    "plt.ylabel('residuals')\n",
    "plt.show()"
   ]
  },
  {
   "cell_type": "code",
   "execution_count": 25,
   "id": "a0ed1ba2-b899-465b-bfca-4ff9af076209",
   "metadata": {},
   "outputs": [
    {
     "name": "stderr",
     "output_type": "stream",
     "text": [
      "C:\\Users\\kawle\\anaconda3\\Lib\\site-packages\\sklearn\\base.py:493: UserWarning: X does not have valid feature names, but LinearRegression was fitted with feature names\n",
      "  warnings.warn(\n"
     ]
    },
    {
     "data": {
      "text/plain": [
       "array([9021.62084964])"
      ]
     },
     "execution_count": 25,
     "metadata": {},
     "output_type": "execute_result"
    }
   ],
   "source": [
    "model.predict([[100000]])"
   ]
  },
  {
   "cell_type": "code",
   "execution_count": 26,
   "id": "ea148958-fe80-45ef-9b75-b88597af9d82",
   "metadata": {},
   "outputs": [
    {
     "data": {
      "text/plain": [
       "9021.620867242771"
      ]
     },
     "execution_count": 26,
     "metadata": {},
     "output_type": "execute_result"
    }
   ],
   "source": [
    "sales  = 4008.762867242771 + 0.05012858*100000\n",
    "sales"
   ]
  },
  {
   "cell_type": "markdown",
   "id": "b2fb383a-e5a8-40c9-985f-6d35ab9ca7c7",
   "metadata": {},
   "source": [
    "# save a model"
   ]
  },
  {
   "cell_type": "code",
   "execution_count": 28,
   "id": "2483d6c6-b2a0-4094-831a-d38b5dbc603a",
   "metadata": {},
   "outputs": [
    {
     "data": {
      "text/plain": [
       "['sales_model.joblib']"
      ]
     },
     "execution_count": 28,
     "metadata": {},
     "output_type": "execute_result"
    }
   ],
   "source": [
    "from joblib import dump\n",
    "dump(model,'sales_model.joblib') "
   ]
  },
  {
   "cell_type": "code",
   "execution_count": 41,
   "id": "3f6f568a-a1cf-4591-bdb5-d6291b65ad3b",
   "metadata": {},
   "outputs": [],
   "source": [
    "from pickle import dump\n",
    "dump(model,open('sales_model.pkl','wb'))"
   ]
  },
  {
   "cell_type": "code",
   "execution_count": null,
   "id": "ab9b8018-49a0-4058-8d01-e594e9f3fe01",
   "metadata": {},
   "outputs": [],
   "source": []
  }
 ],
 "metadata": {
  "kernelspec": {
   "display_name": "Python 3 (ipykernel)",
   "language": "python",
   "name": "python3"
  },
  "language_info": {
   "codemirror_mode": {
    "name": "ipython",
    "version": 3
   },
   "file_extension": ".py",
   "mimetype": "text/x-python",
   "name": "python",
   "nbconvert_exporter": "python",
   "pygments_lexer": "ipython3",
   "version": "3.12.4"
  }
 },
 "nbformat": 4,
 "nbformat_minor": 5
}
