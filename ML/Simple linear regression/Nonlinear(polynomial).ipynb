{
 "cells": [
  {
   "cell_type": "code",
   "execution_count": 1,
   "id": "6f8678d0-cc88-4329-949c-e8d0c805da97",
   "metadata": {},
   "outputs": [],
   "source": [
    "import numpy as np\n",
    "import pandas as pd"
   ]
  },
  {
   "cell_type": "code",
   "execution_count": 3,
   "id": "2f70a5ab-3354-466a-8d76-81685c5ffc98",
   "metadata": {},
   "outputs": [
    {
     "data": {
      "text/html": [
       "<div>\n",
       "<style scoped>\n",
       "    .dataframe tbody tr th:only-of-type {\n",
       "        vertical-align: middle;\n",
       "    }\n",
       "\n",
       "    .dataframe tbody tr th {\n",
       "        vertical-align: top;\n",
       "    }\n",
       "\n",
       "    .dataframe thead th {\n",
       "        text-align: right;\n",
       "    }\n",
       "</style>\n",
       "<table border=\"1\" class=\"dataframe\">\n",
       "  <thead>\n",
       "    <tr style=\"text-align: right;\">\n",
       "      <th></th>\n",
       "      <th>sales</th>\n",
       "      <th>Total spend</th>\n",
       "    </tr>\n",
       "  </thead>\n",
       "  <tbody>\n",
       "    <tr>\n",
       "      <th>0</th>\n",
       "      <td>22100</td>\n",
       "      <td>337100</td>\n",
       "    </tr>\n",
       "    <tr>\n",
       "      <th>1</th>\n",
       "      <td>10400</td>\n",
       "      <td>128900</td>\n",
       "    </tr>\n",
       "    <tr>\n",
       "      <th>2</th>\n",
       "      <td>9300</td>\n",
       "      <td>132400</td>\n",
       "    </tr>\n",
       "    <tr>\n",
       "      <th>3</th>\n",
       "      <td>18500</td>\n",
       "      <td>251300</td>\n",
       "    </tr>\n",
       "    <tr>\n",
       "      <th>4</th>\n",
       "      <td>12900</td>\n",
       "      <td>250000</td>\n",
       "    </tr>\n",
       "  </tbody>\n",
       "</table>\n",
       "</div>"
      ],
      "text/plain": [
       "   sales  Total spend\n",
       "0  22100       337100\n",
       "1  10400       128900\n",
       "2   9300       132400\n",
       "3  18500       251300\n",
       "4  12900       250000"
      ]
     },
     "execution_count": 3,
     "metadata": {},
     "output_type": "execute_result"
    }
   ],
   "source": [
    "df = pd.read_excel('cleaned_data.xlsx')\n",
    "df.head()"
   ]
  },
  {
   "cell_type": "code",
   "execution_count": 4,
   "id": "d50ecf44-d43a-4506-86ed-a00ad98753f6",
   "metadata": {},
   "outputs": [],
   "source": [
    "X = df[['Total spend']]\n",
    "y = df['sales']"
   ]
  },
  {
   "cell_type": "code",
   "execution_count": 17,
   "id": "bafaee4f-ef9b-4371-be36-5f2552ae9bee",
   "metadata": {},
   "outputs": [],
   "source": [
    "from sklearn.model_selection import train_test_split\n",
    "X_train,X_test,y_train,y_test = train_test_split(X,y,train_size = 0.8,random_state = 77)"
   ]
  },
  {
   "cell_type": "code",
   "execution_count": 31,
   "id": "d2f9a4ad-80d1-4a44-a4ad-fea64026db1e",
   "metadata": {},
   "outputs": [],
   "source": [
    "from sklearn.preprocessing import PolynomialFeatures\n",
    "polynomial_converter = PolynomialFeatures(degree=3,include_bias=False)\n",
    "X_train_poly = pd.DataFrame(polynomial_converter.fit_transform(X_train))\n",
    "X_test_poly = pd.DataFrame(polynomial_converter.transform(X_test)) # dont apply fit on test or output data"
   ]
  },
  {
   "cell_type": "code",
   "execution_count": 45,
   "id": "6f1b8f7c-6a34-4441-ac64-bcda5e2f2773",
   "metadata": {},
   "outputs": [
    {
     "name": "stdout",
     "output_type": "stream",
     "text": [
      "Coefficent : [ 8.59564389e-02 -2.09463379e-07  3.32634930e-13]\n",
      "Intercept : 2540.582250262283\n"
     ]
    }
   ],
   "source": [
    "from sklearn.linear_model import LinearRegression\n",
    "model = LinearRegression()\n",
    "model.fit(X_train_poly,y_train)\n",
    "print('Coefficent :',model.coef_)\n",
    "print('Intercept :',model.intercept_)"
   ]
  },
  {
   "cell_type": "code",
   "execution_count": 47,
   "id": "ce15f751-3cff-48be-b12c-414de8b11fd2",
   "metadata": {},
   "outputs": [
    {
     "name": "stdout",
     "output_type": "stream",
     "text": [
      "Train RMSE :  2606.0973158365664\n",
      "Train R2 :  0.7469025465324367\n"
     ]
    }
   ],
   "source": [
    "ypred_train = model.predict(X_train_poly)\n",
    "\n",
    "from sklearn.metrics import r2_score,mean_squared_error\n",
    "print('Train RMSE : ',np.sqrt(mean_squared_error(y_train,ypred_train)))\n",
    "print('Train R2 : ' ,r2_score(y_train,ypred_train)) "
   ]
  },
  {
   "cell_type": "code",
   "execution_count": 49,
   "id": "abfbe84d-e250-48d9-8046-e265a55fd193",
   "metadata": {},
   "outputs": [
    {
     "name": "stdout",
     "output_type": "stream",
     "text": [
      "Cross validation Score : 0.723332200397932\n"
     ]
    }
   ],
   "source": [
    "from sklearn.model_selection import cross_val_score\n",
    "print('Cross validation Score :', cross_val_score(model,X_train_poly,y_train,cv=5).mean()) \n",
    "#CV = should be same as train_test_split like 5 for 0.2 "
   ]
  },
  {
   "cell_type": "code",
   "execution_count": 52,
   "id": "b545fcf2-e53c-48d0-921f-750d2e10ab6d",
   "metadata": {},
   "outputs": [
    {
     "name": "stdout",
     "output_type": "stream",
     "text": [
      "Train RMSE :  2410.3702816271543\n",
      "Train R2 :  0.7890225592986998\n"
     ]
    }
   ],
   "source": [
    "ypred_test = model.predict(X_test_poly)\n",
    "print('Train RMSE : ',np.sqrt(mean_squared_error(y_test,ypred_test)))\n",
    "print('Train R2 : ' ,r2_score(y_test,ypred_test))      "
   ]
  },
  {
   "cell_type": "code",
   "execution_count": null,
   "id": "bb124119-291a-474d-9a46-611dd5863368",
   "metadata": {},
   "outputs": [],
   "source": []
  }
 ],
 "metadata": {
  "kernelspec": {
   "display_name": "Python 3 (ipykernel)",
   "language": "python",
   "name": "python3"
  },
  "language_info": {
   "codemirror_mode": {
    "name": "ipython",
    "version": 3
   },
   "file_extension": ".py",
   "mimetype": "text/x-python",
   "name": "python",
   "nbconvert_exporter": "python",
   "pygments_lexer": "ipython3",
   "version": "3.12.4"
  }
 },
 "nbformat": 4,
 "nbformat_minor": 5
}
