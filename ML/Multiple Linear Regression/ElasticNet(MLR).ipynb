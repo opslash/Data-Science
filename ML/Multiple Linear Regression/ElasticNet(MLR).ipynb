{
 "cells": [
  {
   "cell_type": "code",
   "execution_count": 3,
   "id": "78e0b7f6-b927-42c7-937a-7be4dcb2a7f2",
   "metadata": {},
   "outputs": [],
   "source": [
    "import numpy as np\n",
    "import matplotlib.pyplot as plt\n",
    "import seaborn as sns\n",
    "import pandas as pd\n",
    "import warnings\n",
    "warnings.filterwarnings('ignore')"
   ]
  },
  {
   "cell_type": "code",
   "execution_count": 4,
   "id": "94dbfef0-857e-4f39-a6c0-2791538954ce",
   "metadata": {},
   "outputs": [
    {
     "data": {
      "text/html": [
       "<div>\n",
       "<style scoped>\n",
       "    .dataframe tbody tr th:only-of-type {\n",
       "        vertical-align: middle;\n",
       "    }\n",
       "\n",
       "    .dataframe tbody tr th {\n",
       "        vertical-align: top;\n",
       "    }\n",
       "\n",
       "    .dataframe thead th {\n",
       "        text-align: right;\n",
       "    }\n",
       "</style>\n",
       "<table border=\"1\" class=\"dataframe\">\n",
       "  <thead>\n",
       "    <tr style=\"text-align: right;\">\n",
       "      <th></th>\n",
       "      <th>age</th>\n",
       "      <th>sex</th>\n",
       "      <th>bmi</th>\n",
       "      <th>children</th>\n",
       "      <th>smoker</th>\n",
       "      <th>region</th>\n",
       "      <th>expenses</th>\n",
       "    </tr>\n",
       "  </thead>\n",
       "  <tbody>\n",
       "    <tr>\n",
       "      <th>0</th>\n",
       "      <td>19</td>\n",
       "      <td>female</td>\n",
       "      <td>27.9</td>\n",
       "      <td>0</td>\n",
       "      <td>yes</td>\n",
       "      <td>southwest</td>\n",
       "      <td>16884.92</td>\n",
       "    </tr>\n",
       "    <tr>\n",
       "      <th>1</th>\n",
       "      <td>18</td>\n",
       "      <td>male</td>\n",
       "      <td>33.8</td>\n",
       "      <td>1</td>\n",
       "      <td>no</td>\n",
       "      <td>southeast</td>\n",
       "      <td>1725.55</td>\n",
       "    </tr>\n",
       "    <tr>\n",
       "      <th>2</th>\n",
       "      <td>28</td>\n",
       "      <td>male</td>\n",
       "      <td>33.0</td>\n",
       "      <td>3</td>\n",
       "      <td>no</td>\n",
       "      <td>southeast</td>\n",
       "      <td>4449.46</td>\n",
       "    </tr>\n",
       "    <tr>\n",
       "      <th>3</th>\n",
       "      <td>33</td>\n",
       "      <td>male</td>\n",
       "      <td>22.7</td>\n",
       "      <td>0</td>\n",
       "      <td>no</td>\n",
       "      <td>northwest</td>\n",
       "      <td>21984.47</td>\n",
       "    </tr>\n",
       "    <tr>\n",
       "      <th>4</th>\n",
       "      <td>32</td>\n",
       "      <td>male</td>\n",
       "      <td>28.9</td>\n",
       "      <td>0</td>\n",
       "      <td>no</td>\n",
       "      <td>northwest</td>\n",
       "      <td>3866.86</td>\n",
       "    </tr>\n",
       "  </tbody>\n",
       "</table>\n",
       "</div>"
      ],
      "text/plain": [
       "   age     sex   bmi  children smoker     region  expenses\n",
       "0   19  female  27.9         0    yes  southwest  16884.92\n",
       "1   18    male  33.8         1     no  southeast   1725.55\n",
       "2   28    male  33.0         3     no  southeast   4449.46\n",
       "3   33    male  22.7         0     no  northwest  21984.47\n",
       "4   32    male  28.9         0     no  northwest   3866.86"
      ]
     },
     "execution_count": 4,
     "metadata": {},
     "output_type": "execute_result"
    }
   ],
   "source": [
    "df = pd.read_excel('insurance.xlsx')\n",
    "df.head()"
   ]
  },
  {
   "cell_type": "code",
   "execution_count": 5,
   "id": "9868627b-12b6-481d-b051-68172310741f",
   "metadata": {},
   "outputs": [],
   "source": [
    "df.drop_duplicates(inplace=True)\n",
    "df.drop('region',axis=1,inplace=True)\n",
    "df['sex'].replace({'female' : 0 , 'male' : 1} ,inplace=True)\n",
    "df['smoker'].replace({'no' : 0 , 'yes' : 1} ,inplace=True)\n",
    "X = df.drop('expenses',axis=1)\n",
    "y = df['expenses']"
   ]
  },
  {
   "cell_type": "code",
   "execution_count": 6,
   "id": "8d64bed8-be0a-4b79-9903-286b2b40933d",
   "metadata": {},
   "outputs": [],
   "source": [
    "from sklearn.model_selection import train_test_split\n",
    "X_train,X_test,y_train,y_test = train_test_split(X,y,test_size=0.2,random_state=9)"
   ]
  },
  {
   "cell_type": "code",
   "execution_count": 7,
   "id": "dcb6dadc-c3b9-4a3c-9e1b-6ce95fa92dc3",
   "metadata": {},
   "outputs": [
    {
     "data": {
      "text/plain": [
       "{'alpha': 45, 'l1_ratio': 1}"
      ]
     },
     "execution_count": 7,
     "metadata": {},
     "output_type": "execute_result"
    }
   ],
   "source": [
    "from sklearn.model_selection import GridSearchCV\n",
    "from sklearn.linear_model import ElasticNet\n",
    "\n",
    "estimator = ElasticNet()\n",
    "param_grid = ({'alpha' : list(range(1,100)), 'l1_ratio':[0,0.1,0.2,0.3,0.4,0.5,0.6,0.7,0.8,0.9,1]})\n",
    "\n",
    "model_hp = GridSearchCV(estimator,param_grid,cv=5,scoring='neg_mean_squared_error')\n",
    "model_hp.fit(X_train,y_train)\n",
    "model_hp.best_params_"
   ]
  },
  {
   "cell_type": "code",
   "execution_count": 10,
   "id": "eb0ef234-6eb2-498e-b33a-7c43da21d3d4",
   "metadata": {},
   "outputs": [
    {
     "name": "stdout",
     "output_type": "stream",
     "text": [
      "Intercept : -12084.243492696774\n",
      "Coefficent : [  264.42706339    -0.           317.29607054   382.62392865\n",
      " 23710.44414936]\n",
      "Train RMSE : 6045.7371630459675\n",
      "Train R2 : 0.7592721687983452\n",
      "Test RMSE : 6118.0062176954325\n",
      "Test R2 : 0.7008373661584879\n",
      "CV : 0.753720520261007\n"
     ]
    }
   ],
   "source": [
    "from sklearn.linear_model import ElasticNet\n",
    "enr_best = ElasticNet(alpha=45,l1_ratio=1)\n",
    "enr_best.fit(X_train,y_train)\n",
    "\n",
    "print('Intercept :',enr_best.intercept_)\n",
    "print('Coefficent :',enr_best.coef_)\n",
    "\n",
    "from sklearn.metrics import r2_score,mean_squared_error\n",
    "\n",
    "ypred_train = enr_best.predict(X_train)\n",
    "print('Train RMSE :',np.sqrt(mean_squared_error(y_train,ypred_train)))\n",
    "print('Train R2 :',r2_score(y_train,ypred_train))\n",
    "\n",
    "ypred_test = enr_best.predict(X_test)\n",
    "print('Test RMSE :',np.sqrt(mean_squared_error(y_test,ypred_test)))\n",
    "print('Test R2 :',r2_score(y_test,ypred_test))\n",
    "\n",
    "from sklearn.model_selection import cross_val_score\n",
    "print('CV :' , cross_val_score(enr_best,X_train,y_train).mean())"
   ]
  },
  {
   "cell_type": "code",
   "execution_count": 11,
   "id": "e8c3cc26-2f78-4940-9c61-71696ad50a0c",
   "metadata": {},
   "outputs": [],
   "source": [
    "input_data = {\n",
    "    'age':31,\n",
    "    'sex':'female',\n",
    "    'bmi':25.74,\n",
    "    'children':0,\n",
    "    'smoker':'no',\n",
    "    'region':'northeast'\n",
    "}"
   ]
  },
  {
   "cell_type": "code",
   "execution_count": 12,
   "id": "68a4ca33-4d31-429f-997a-5d26543b042f",
   "metadata": {},
   "outputs": [],
   "source": [
    "df_test = pd.DataFrame(input_data,index=[0])\n",
    "df_test.drop(['region'],axis=1,inplace=True)\n",
    "df_test['sex'].replace({'female' : 0 , 'Male' : 1} ,inplace=True)\n",
    "df_test['smoker'].replace({'no' : 0 , 'yes' : 1} ,inplace=True)\n",
    "\n",
    "transformed_data = df_test"
   ]
  },
  {
   "cell_type": "code",
   "execution_count": 13,
   "id": "a84bc361-e234-41da-a83d-3b8adde7ddba",
   "metadata": {},
   "outputs": [
    {
     "data": {
      "text/plain": [
       "array([4280.19632825])"
      ]
     },
     "execution_count": 13,
     "metadata": {},
     "output_type": "execute_result"
    }
   ],
   "source": [
    "enr_best.predict(transformed_data)"
   ]
  },
  {
   "cell_type": "code",
   "execution_count": null,
   "id": "a160a541-bedf-45ae-b803-20cf38f794cf",
   "metadata": {},
   "outputs": [],
   "source": []
  }
 ],
 "metadata": {
  "kernelspec": {
   "display_name": "Python 3 (ipykernel)",
   "language": "python",
   "name": "python3"
  },
  "language_info": {
   "codemirror_mode": {
    "name": "ipython",
    "version": 3
   },
   "file_extension": ".py",
   "mimetype": "text/x-python",
   "name": "python",
   "nbconvert_exporter": "python",
   "pygments_lexer": "ipython3",
   "version": "3.12.4"
  }
 },
 "nbformat": 4,
 "nbformat_minor": 5
}
