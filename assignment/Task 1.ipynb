{
 "cells": [
  {
   "cell_type": "markdown",
   "id": "f4ad9bab-6759-4f2a-99c2-1a202916fafa",
   "metadata": {},
   "source": [
    "# Variables"
   ]
  },
  {
   "cell_type": "code",
   "execution_count": 2,
   "id": "2f6779c1-8724-4ef1-9e92-6f84705cc339",
   "metadata": {},
   "outputs": [
    {
     "data": {
      "text/plain": [
       "'volvo'"
      ]
     },
     "execution_count": 2,
     "metadata": {},
     "output_type": "execute_result"
    }
   ],
   "source": [
    "carname = \"volvo\"\n",
    "carname"
   ]
  },
  {
   "cell_type": "code",
   "execution_count": 4,
   "id": "56b81708-e4a9-41fe-be17-59b261529b40",
   "metadata": {},
   "outputs": [
    {
     "data": {
      "text/plain": [
       "5"
      ]
     },
     "execution_count": 4,
     "metadata": {},
     "output_type": "execute_result"
    }
   ],
   "source": [
    "x = 5\n",
    "x"
   ]
  },
  {
   "cell_type": "code",
   "execution_count": 7,
   "id": "c2703fda-3db1-4fb8-9304-e98e066f39cf",
   "metadata": {},
   "outputs": [],
   "source": [
    "x = 6\n",
    "del x"
   ]
  },
  {
   "cell_type": "code",
   "execution_count": 8,
   "id": "62b48962-7eac-43a7-bfbf-75a8ce26d446",
   "metadata": {},
   "outputs": [
    {
     "data": {
      "text/plain": [
       "(5, 6)"
      ]
     },
     "execution_count": 8,
     "metadata": {},
     "output_type": "execute_result"
    }
   ],
   "source": [
    "a,b = 5,6\n",
    "a,b"
   ]
  },
  {
   "cell_type": "code",
   "execution_count": 9,
   "id": "573c4329-7faa-4421-920c-0d1090e38dd6",
   "metadata": {},
   "outputs": [
    {
     "data": {
      "text/plain": [
       "'Monish'"
      ]
     },
     "execution_count": 9,
     "metadata": {},
     "output_type": "execute_result"
    }
   ],
   "source": [
    "name = \"Monish\"\n",
    "name"
   ]
  },
  {
   "cell_type": "code",
   "execution_count": 10,
   "id": "2f36c926-7435-4cd5-9d1c-d5ffcd2209fe",
   "metadata": {},
   "outputs": [
    {
     "data": {
      "text/plain": [
       "21"
      ]
     },
     "execution_count": 10,
     "metadata": {},
     "output_type": "execute_result"
    }
   ],
   "source": [
    "Age = 21\n",
    "Age"
   ]
  },
  {
   "cell_type": "code",
   "execution_count": 12,
   "id": "cd7abbaa-bfe1-4ef3-8035-c57c235bc39f",
   "metadata": {},
   "outputs": [
    {
     "data": {
      "text/plain": [
       "True"
      ]
     },
     "execution_count": 12,
     "metadata": {},
     "output_type": "execute_result"
    }
   ],
   "source": [
    "is_python_fun = True\n",
    "is_python_fun"
   ]
  },
  {
   "cell_type": "code",
   "execution_count": 17,
   "id": "62476cc0-adf1-4a84-813a-cb6853641670",
   "metadata": {},
   "outputs": [
    {
     "data": {
      "text/plain": [
       "\"\\nDescriptive Names: Use clear and meaningful names that reflect the variable's purpose.\\nSnake Case: Separate words with underscores (e.g., my_variable).\\nAvoid Reserved Keywords: Don't use Python keywords as variable names.\\nConsider Prefixes: Optionally use prefixes to indicate data type or purpose.\\nBe Consistent: Maintain consistency throughout your codebase.\\n\""
      ]
     },
     "execution_count": 17,
     "metadata": {},
     "output_type": "execute_result"
    }
   ],
   "source": [
    "# naming convention for variables in python\n",
    "\n",
    "\"\"\"\n",
    "Descriptive Names: Use clear and meaningful names that reflect the variable's purpose.\n",
    "Snake Case: Separate words with underscores (e.g., my_variable).\n",
    "Avoid Reserved Keywords: Don't use Python keywords as variable names.\n",
    "Consider Prefixes: Optionally use prefixes to indicate data type or purpose.\n",
    "Be Consistent: Maintain consistency throughout your codebase.\n",
    "\"\"\""
   ]
  },
  {
   "cell_type": "code",
   "execution_count": 19,
   "id": "42779f83-a0c9-4859-b078-5fbec00964d0",
   "metadata": {},
   "outputs": [],
   "source": [
    "# what happens when you try to use a variable that has not been define in Python\n",
    "\n",
    "# When you try to use a variable that hasn't been defined in Python, you'll encounter a NameError exception."
   ]
  },
  {
   "cell_type": "code",
   "execution_count": 20,
   "id": "9720bc0f-0ef9-47bd-b3e0-9e67edfa7d2f",
   "metadata": {},
   "outputs": [
    {
     "data": {
      "text/plain": [
       "'\\nmulti\\nline\\ncomment\\n'"
      ]
     },
     "execution_count": 20,
     "metadata": {},
     "output_type": "execute_result"
    }
   ],
   "source": [
    "# single line comment\n",
    "\n",
    "'''\n",
    "multi\n",
    "line\n",
    "comment\n",
    "'''"
   ]
  },
  {
   "cell_type": "code",
   "execution_count": 33,
   "id": "2db830c5-e1a1-41d6-b3d0-0e76c372fc87",
   "metadata": {},
   "outputs": [
    {
     "name": "stdout",
     "output_type": "stream",
     "text": [
      "10 10 10\n"
     ]
    }
   ],
   "source": [
    "# how to assign single value to multiple variables in python\n",
    "\n",
    "a=b=c = 10\n",
    "print(a,b,c)"
   ]
  },
  {
   "cell_type": "markdown",
   "id": "b754b410-82ce-4e39-8f88-6803e06fba1c",
   "metadata": {},
   "source": [
    "#  fundamental data type and string operation\n"
   ]
  },
  {
   "cell_type": "code",
   "execution_count": null,
   "id": "0b4b49ad-54ee-4e64-b558-ff9a2b0843ec",
   "metadata": {},
   "outputs": [],
   "source": [
    "# integer,float,boolean,string,none\n",
    "\n",
    "'''\n",
    "advance data type in python \n",
    "\n",
    "list,tupple,set,dictionary\n",
    "'''"
   ]
  },
  {
   "cell_type": "code",
   "execution_count": 45,
   "id": "41e98e52-6990-4d67-89ca-cab107987ef2",
   "metadata": {},
   "outputs": [
    {
     "ename": "NameError",
     "evalue": "name 'true' is not defined",
     "output_type": "error",
     "traceback": [
      "\u001b[1;31m---------------------------------------------------------------------------\u001b[0m",
      "\u001b[1;31mNameError\u001b[0m                                 Traceback (most recent call last)",
      "Cell \u001b[1;32mIn[45], line 1\u001b[0m\n\u001b[1;32m----> 1\u001b[0m a, b, c, d \u001b[38;5;241m=\u001b[39m \u001b[38;5;124m\"\u001b[39m\u001b[38;5;124mHello\u001b[39m\u001b[38;5;124m\"\u001b[39m, \u001b[38;5;241m6.003\u001b[39m, \u001b[38;5;28;01mTrue\u001b[39;00m, true\n\u001b[0;32m      3\u001b[0m \u001b[38;5;28mprint\u001b[39m(\u001b[38;5;28mtype\u001b[39m(a))\n\u001b[0;32m      4\u001b[0m \u001b[38;5;28mprint\u001b[39m(\u001b[38;5;28mtype\u001b[39m(b))\n",
      "\u001b[1;31mNameError\u001b[0m: name 'true' is not defined"
     ]
    }
   ],
   "source": [
    "a, b, c, d = \"Hello\", 6.003, True, true\n",
    "\n",
    "print(type(a))\n",
    "print(type(b))\n",
    "print(type(c))\n",
    "print(type(d))"
   ]
  },
  {
   "cell_type": "code",
   "execution_count": null,
   "id": "eee02919-ea73-4988-83e3-3a0cf59ed6a7",
   "metadata": {},
   "outputs": [],
   "source": [
    "'''\n",
    "Type Casting in Python refers to the process of converting a value from one data type to another. This is often done when you need to perform operations that require specific data types or when you want to represent data in a different format.\n",
    "\n",
    "Common Type Conversions:\n",
    "\n",
    "Integer to Float: Convert an integer to a floating-point number using the float() function.\n",
    "Float to Integer: Convert a floating-point number to an integer using the int() function (this will truncate the decimal part).\n",
    "String to Integer or Float: Convert a string representing a number to an integer or float using the int() or float() function, respectively.\n",
    "Integer or Float to String: Convert a number to a string using the str() function.\n",
    "Boolean to Integer: Convert a boolean value to an integer (True becomes 1, False becomes 0).\n",
    "Integer or Float to Boolean: Convert a number to a boolean (0 becomes False, non-zero becomes True).\n",
    "'''"
   ]
  },
  {
   "cell_type": "code",
   "execution_count": 48,
   "id": "24d1fef5-f521-43f4-9f9f-fc1006cc9992",
   "metadata": {},
   "outputs": [
    {
     "name": "stdout",
     "output_type": "stream",
     "text": [
      "123\n",
      "123.0\n",
      "True\n",
      "123\n"
     ]
    }
   ],
   "source": [
    "ex = \"123\"\n",
    "\n",
    "print(int(ex))\n",
    "print(float(ex))\n",
    "print(bool(ex))\n",
    "print(str(ex))"
   ]
  },
  {
   "cell_type": "code",
   "execution_count": 49,
   "id": "1fed1810-5b74-4a18-8848-63a5d7156c4e",
   "metadata": {},
   "outputs": [
    {
     "data": {
      "text/plain": [
       "1"
      ]
     },
     "execution_count": 49,
     "metadata": {},
     "output_type": "execute_result"
    }
   ],
   "source": [
    "int(float(bool(str(13))))"
   ]
  },
  {
   "cell_type": "code",
   "execution_count": 61,
   "id": "2422a2e8-fd1d-4495-a777-ff81d6f195cb",
   "metadata": {},
   "outputs": [
    {
     "name": "stdin",
     "output_type": "stream",
     "text": [
      "enter string  dshd\n"
     ]
    },
    {
     "data": {
      "text/plain": [
       "'dshding'"
      ]
     },
     "execution_count": 61,
     "metadata": {},
     "output_type": "execute_result"
    }
   ],
   "source": [
    "s = input(\"enter string \")\n",
    "a = \"ing\"\n",
    "b = s+a\n",
    "b"
   ]
  },
  {
   "cell_type": "code",
   "execution_count": 53,
   "id": "1234a26e-cc42-4e49-a34e-8ec42b7bf099",
   "metadata": {},
   "outputs": [
    {
     "name": "stdout",
     "output_type": "stream",
     "text": [
      "hello world\n"
     ]
    }
   ],
   "source": [
    "x = 'hello world'\n",
    "print(x)"
   ]
  },
  {
   "cell_type": "code",
   "execution_count": 54,
   "id": "230e50be-7914-463b-9c9e-3157293f8c92",
   "metadata": {},
   "outputs": [
    {
     "data": {
      "text/plain": [
       "'datascience'"
      ]
     },
     "execution_count": 54,
     "metadata": {},
     "output_type": "execute_result"
    }
   ],
   "source": [
    "# string concatenation\n",
    "a = 'data'\n",
    "b = 'science'\n",
    "a + b"
   ]
  },
  {
   "cell_type": "code",
   "execution_count": 56,
   "id": "ab9031cf-203d-4b95-b114-dc36512142d3",
   "metadata": {},
   "outputs": [
    {
     "name": "stdout",
     "output_type": "stream",
     "text": [
      "<class 'int'>\n"
     ]
    }
   ],
   "source": [
    "x = 5\n",
    "print(type(x))"
   ]
  },
  {
   "cell_type": "markdown",
   "id": "575114e9-1126-4b7b-a4eb-48c8362a072a",
   "metadata": {},
   "source": [
    "# string indexing and slicing"
   ]
  },
  {
   "cell_type": "code",
   "execution_count": null,
   "id": "1f3a3f36-0879-420d-8261-4082d17b3f37",
   "metadata": {},
   "outputs": [],
   "source": [
    "# difference between indexing and slicing in Python\n",
    "\n",
    "'''\n",
    "Indexing:\n",
    "\n",
    "Purpose: Accesses a single element from a sequence based on its position.\n",
    "Syntax: sequence[index]\n",
    "Index: A numerical value representing the position of the element (starting from 0).\n",
    "\n",
    "Slicing:\n",
    "\n",
    "Purpose: Extracts a sub-sequence (a portion) of a sequence based on specified start and end indices.\n",
    "Syntax: sequence[start:end:step]\n",
    "Start: The index of the first element to include (default is 0).\n",
    "End: The index of the first element to exclude (default is the length of the sequence).\n",
    "Step: The interval between elements (default is 1).\n",
    "'''"
   ]
  },
  {
   "cell_type": "code",
   "execution_count": 3,
   "id": "fd47c652-80cc-4e30-95fa-4e168626a840",
   "metadata": {},
   "outputs": [
    {
     "name": "stdin",
     "output_type": "stream",
     "text": [
      "enter number 5654\n"
     ]
    },
    {
     "name": "stdout",
     "output_type": "stream",
     "text": [
      "4565\n"
     ]
    }
   ],
   "source": [
    "num = int(input(\"enter number\"))\n",
    "reversed_num = 0\n",
    "while num>0:\n",
    "    l_digit = int(num)%10\n",
    "    reversed_num = reversed_num * 10 + l_digit\n",
    "    num //= 10\n",
    "\n",
    "print(reversed_num)"
   ]
  },
  {
   "cell_type": "code",
   "execution_count": 4,
   "id": "ec3fe3b3-c8a0-4998-a69f-4462ddfffc55",
   "metadata": {},
   "outputs": [
    {
     "data": {
      "text/plain": [
       "'a'"
      ]
     },
     "execution_count": 4,
     "metadata": {},
     "output_type": "execute_result"
    }
   ],
   "source": [
    "x = \"vinay\"\n",
    "x[3]"
   ]
  },
  {
   "cell_type": "code",
   "execution_count": 12,
   "id": "f6619b1e-cbef-453e-9529-0f1d34cc2f3e",
   "metadata": {},
   "outputs": [
    {
     "data": {
      "text/plain": [
       "'VnyadDea'"
      ]
     },
     "execution_count": 12,
     "metadata": {},
     "output_type": "execute_result"
    }
   ],
   "source": [
    "x = \"Vinay and Deepak\"\n",
    "x[0::2]"
   ]
  },
  {
   "cell_type": "code",
   "execution_count": 13,
   "id": "aec9501f-4eae-4717-9d45-e611bb3f4bd7",
   "metadata": {},
   "outputs": [
    {
     "data": {
      "text/plain": [
       "5"
      ]
     },
     "execution_count": 13,
     "metadata": {},
     "output_type": "execute_result"
    }
   ],
   "source": [
    "lst = [1,2,3,4,5]\n",
    "lst[-1]"
   ]
  },
  {
   "cell_type": "code",
   "execution_count": 15,
   "id": "a8dfa0e7-2e0c-4f0a-8816-bb48e1647b5a",
   "metadata": {},
   "outputs": [
    {
     "data": {
      "text/plain": [
       "[2, 3, 4]"
      ]
     },
     "execution_count": 15,
     "metadata": {},
     "output_type": "execute_result"
    }
   ],
   "source": [
    "lst = [1,2,3,4,5]\n",
    "lst[1:4]"
   ]
  },
  {
   "cell_type": "code",
   "execution_count": 16,
   "id": "a53885a6-d0d9-43c2-a47b-554aa9fee5ab",
   "metadata": {},
   "outputs": [
    {
     "data": {
      "text/plain": [
       "[10, 2, 3, 4, 5]"
      ]
     },
     "execution_count": 16,
     "metadata": {},
     "output_type": "execute_result"
    }
   ],
   "source": [
    "lst = [1,2,3,4,5]\n",
    "lst[0]=10\n",
    "lst"
   ]
  },
  {
   "cell_type": "code",
   "execution_count": null,
   "id": "12f74f5e-1892-4e6b-a8d2-7889a550ac82",
   "metadata": {},
   "outputs": [],
   "source": [
    "# what does the step parameter tdo in slicing in Python\n",
    "\n",
    "'''\n",
    "The step parameter in slicing in Python specifies the interval between elements to be extracted from a sequence.\n",
    "It allows you to skip elements and extract a subsequence with a specific stride.\n",
    "'''"
   ]
  },
  {
   "cell_type": "code",
   "execution_count": 17,
   "id": "55786cb2-9c7f-4362-bd62-1ad35a73629c",
   "metadata": {},
   "outputs": [
    {
     "ename": "IndexError",
     "evalue": "list index out of range",
     "output_type": "error",
     "traceback": [
      "\u001b[1;31m---------------------------------------------------------------------------\u001b[0m",
      "\u001b[1;31mIndexError\u001b[0m                                Traceback (most recent call last)",
      "Cell \u001b[1;32mIn[17], line 2\u001b[0m\n\u001b[0;32m      1\u001b[0m lst \u001b[38;5;241m=\u001b[39m [\u001b[38;5;241m1\u001b[39m,\u001b[38;5;241m2\u001b[39m,\u001b[38;5;241m3\u001b[39m,\u001b[38;5;241m4\u001b[39m,\u001b[38;5;241m5\u001b[39m]\n\u001b[1;32m----> 2\u001b[0m lst[\u001b[38;5;241m10\u001b[39m]\n",
      "\u001b[1;31mIndexError\u001b[0m: list index out of range"
     ]
    }
   ],
   "source": [
    "lst = [1,2,3,4,5]\n",
    "lst[10]"
   ]
  },
  {
   "cell_type": "code",
   "execution_count": 18,
   "id": "020948ad-0c94-4397-9d36-c661fc67efab",
   "metadata": {},
   "outputs": [
    {
     "data": {
      "text/plain": [
       "[1, 3, 5, 7, 9]"
      ]
     },
     "execution_count": 18,
     "metadata": {},
     "output_type": "execute_result"
    }
   ],
   "source": [
    "lst = [1,2,3,4,5,6,7,8,9,10]\n",
    "lst[0::2]"
   ]
  },
  {
   "cell_type": "code",
   "execution_count": 20,
   "id": "f68d5d75-2185-40e9-a962-2f538d9f4dd3",
   "metadata": {},
   "outputs": [
    {
     "data": {
      "text/plain": [
       "'tho'"
      ]
     },
     "execution_count": 20,
     "metadata": {},
     "output_type": "execute_result"
    }
   ],
   "source": [
    "s = \"python\"\n",
    "s[2:5]"
   ]
  },
  {
   "cell_type": "code",
   "execution_count": 22,
   "id": "442f6dc8-db3c-4dcb-aec9-5c0e7e8139ef",
   "metadata": {},
   "outputs": [
    {
     "data": {
      "text/plain": [
       "'Vinay Deepak'"
      ]
     },
     "execution_count": 22,
     "metadata": {},
     "output_type": "execute_result"
    }
   ],
   "source": [
    "a = \"Vinay\"\n",
    "b = \"Deepak\"\n",
    "s = a+\" \"+b\n",
    "s"
   ]
  },
  {
   "cell_type": "code",
   "execution_count": 30,
   "id": "85239daf-d04f-4ed4-841f-d1bb0b0bac4b",
   "metadata": {},
   "outputs": [
    {
     "name": "stdout",
     "output_type": "stream",
     "text": [
      "{'this': 2, 'is': 1, 'a': 1, 'sample': 1, 'text.': 1, 'text': 1, 'has': 1, 'some': 1, 'repeated': 1, 'words': 1}\n"
     ]
    }
   ],
   "source": [
    "text = \"This is a sample text. This text has some repeated words\"\n",
    "words = text.split()\n",
    "word_counts = {}\n",
    "\n",
    "for word in words:\n",
    "    word = word.lower()\n",
    "\n",
    "    if word in word_counts:\n",
    "        word_counts[word] += 1\n",
    "    else:\n",
    "        word_counts[word] = 1\n",
    "\n",
    "print(word_counts)"
   ]
  },
  {
   "cell_type": "code",
   "execution_count": 32,
   "id": "139fff18-36d9-49a6-82a7-532c3bc4638c",
   "metadata": {},
   "outputs": [
    {
     "name": "stdout",
     "output_type": "stream",
     "text": [
      "Number of vowels: 9\n"
     ]
    }
   ],
   "source": [
    "# Write a Python program to count and display vowels of a given text\n",
    "\n",
    "def count_vowels(text):\n",
    "\n",
    "    vowels = \"aeiouAEIOU\"\n",
    "    count = 0\n",
    "\n",
    "    for char in text:\n",
    "        if char in vowels:\n",
    "           count += 1  \n",
    "    return count\n",
    "\n",
    "text = \"This is a sample text with vowels.\"\n",
    "vowel_count = count_vowels(text)\n",
    "print(\"Number of vowels:\", vowel_count)"
   ]
  },
  {
   "cell_type": "code",
   "execution_count": 33,
   "id": "3e2b01de-aa55-4063-b134-5a17ec78f6c9",
   "metadata": {},
   "outputs": [
    {
     "name": "stdout",
     "output_type": "stream",
     "text": [
      "The first repeated character is: l\n"
     ]
    }
   ],
   "source": [
    "def find_first_repeated_char(string):\n",
    "  \"\"\"Finds the first repeated character in a given string.\n",
    "\n",
    "  Args:\n",
    "    string: The input string.\n",
    "\n",
    "  Returns:\n",
    "    The first repeated character, or None if no repeated character is found.\n",
    "  \"\"\"\n",
    "\n",
    "  seen_chars = set()\n",
    "  for char in string:\n",
    "    if char in seen_chars:\n",
    "      return char\n",
    "    seen_chars.add(char)\n",
    "\n",
    "  return None\n",
    "\n",
    "# Example usage\n",
    "text = \"hello world\"\n",
    "repeated_char = find_first_repeated_char(text)\n",
    "\n",
    "if repeated_char:\n",
    "  print(\"The first repeated character is:\", repeated_char)\n",
    "else:\n",
    "  print(\"No repeated characters found.\")"
   ]
  },
  {
   "cell_type": "code",
   "execution_count": 34,
   "id": "582ac800-0798-414a-8284-b02662b43dbc",
   "metadata": {},
   "outputs": [
    {
     "name": "stdout",
     "output_type": "stream",
     "text": [
      "dlrow olleh\n"
     ]
    }
   ],
   "source": [
    "def reverse_string(string):\n",
    "  \"\"\"Reverses a given string.\n",
    "\n",
    "  Args:\n",
    "    string: The string to be reversed.\n",
    "\n",
    "  Returns:\n",
    "    The reversed string.\n",
    "  \"\"\"\n",
    "\n",
    "  reversed_string = \"\"\n",
    "  for char in string:\n",
    "    reversed_string = char + reversed_string\n",
    "  return reversed_string\n",
    "\n",
    "# Example usage\n",
    "text = \"hello world\"\n",
    "reversed_text = reverse_string(text)\n",
    "print(reversed_text)"
   ]
  },
  {
   "cell_type": "code",
   "execution_count": null,
   "id": "4672733c-be26-421e-be98-8e349ea78255",
   "metadata": {},
   "outputs": [],
   "source": []
  }
 ],
 "metadata": {
  "kernelspec": {
   "display_name": "Python 3 (ipykernel)",
   "language": "python",
   "name": "python3"
  },
  "language_info": {
   "codemirror_mode": {
    "name": "ipython",
    "version": 3
   },
   "file_extension": ".py",
   "mimetype": "text/x-python",
   "name": "python",
   "nbconvert_exporter": "python",
   "pygments_lexer": "ipython3",
   "version": "3.12.4"
  }
 },
 "nbformat": 4,
 "nbformat_minor": 5
}
