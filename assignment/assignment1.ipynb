{
 "cells": [
  {
   "cell_type": "code",
   "execution_count": null,
   "id": "fbc26147-a470-4fc8-a010-f0ae5561e30b",
   "metadata": {},
   "outputs": [],
   "source": [
    "weight = input(\"enter your weight: \")\n",
    "print(weight)"
   ]
  },
  {
   "cell_type": "code",
   "execution_count": null,
   "id": "852c5943-58bd-4798-a016-d1e6c41f5bf8",
   "metadata": {},
   "outputs": [],
   "source": [
    "print(\"F for feet M for meter\")\n",
    "b = input(\"what is your preffered unit of height: \")\n",
    "print(b)"
   ]
  },
  {
   "cell_type": "code",
   "execution_count": null,
   "id": "e52d067f-6213-4517-b10f-f8f03e70258e",
   "metadata": {},
   "outputs": [],
   "source": [
    "if (b==\"F\"):\n",
    "    print(\"you will enter your height given as feet and inches\")\n",
    "    feets = input(\"enter Feets\")\n",
    "    inches = input(\"enter inches\")\n",
    "\n",
    "else:\n",
    "    meter = input(\"what is your height in meters: \")"
   ]
  },
  {
   "cell_type": "code",
   "execution_count": null,
   "id": "7a46fb6f-d6a8-4232-b9c2-1a158a3a2f41",
   "metadata": {},
   "outputs": [],
   "source": [
    "# Convert c to a numerical value\n",
    "c_int = int(feets)\n",
    "d_int = int(inches)\n",
    "# Perform the conversion\n",
    "temp = d_int / 12\n",
    "feets = c_int + temp\n",
    "meter = feets * 0.3048\n",
    "print(meter)"
   ]
  },
  {
   "cell_type": "code",
   "execution_count": null,
   "id": "5699f4c3-c779-4f3d-9d48-f1f4cbd1b531",
   "metadata": {},
   "outputs": [],
   "source": [
    "weight = int(weight)\n",
    "meter = int(meter)\n",
    "print(weight)\n",
    "BMI = (weight)/(meter*2)\n",
    "print(BMI)"
   ]
  },
  {
   "cell_type": "code",
   "execution_count": null,
   "id": "94156d00-4908-4806-8109-f43b923b0a85",
   "metadata": {},
   "outputs": [],
   "source": [
    "if(BMI<18.5):\n",
    "    print(\"underweight\")\n",
    "if(18.25<=BMI<25):\n",
    "    print(\"normal\")\n",
    "if(25<=BMI<30):\n",
    "    print(\"overweight\")\n",
    "if(BMI>=30):\n",
    "    print(\"overweight\")"
   ]
  },
  {
   "cell_type": "code",
   "execution_count": 2,
   "id": "756a2aff-6dfe-47d0-a112-aa9b30461c2e",
   "metadata": {},
   "outputs": [
    {
     "name": "stdin",
     "output_type": "stream",
     "text": [
      "Enter your weight in kg:  61\n",
      "Enter your preferred unit of height (F for feet and inches, M for meters):  f\n",
      "Enter your height in feet:  5\n",
      "Enter your height in inches:  3\n"
     ]
    },
    {
     "name": "stdout",
     "output_type": "stream",
     "text": [
      "1.6002\n"
     ]
    }
   ],
   "source": [
    "# solutions\n",
    "weight = float(input(\"Enter your weight in kg: \"))\n",
    "\n",
    "height_unit = input(\"Enter your preferred unit of height (F for feet and inches, M for meters): \").upper()\n",
    "\n",
    "if height_unit == \"F\":\n",
    "    feet = int(input(\"Enter your height in feet: \"))\n",
    "    inches = int(input(\"Enter your height in inches: \"))\n",
    "    height_meters = (feet * 0.3048) + (inches * 0.0254)\n",
    "\n",
    "elif height_unit == \"M\":\n",
    "    height_meters = float(input(\"Enter your height in meters: \"))\n",
    "else:\n",
    "    print(\"Invalid height unit. Please enter 'F' for feet and inches or 'M' for meters.\")\n",
    "\n",
    "print(height_meters)"
   ]
  },
  {
   "cell_type": "code",
   "execution_count": 3,
   "id": "37bb4f0e-b33b-4004-ac76-d06c58cea270",
   "metadata": {},
   "outputs": [
    {
     "name": "stdout",
     "output_type": "stream",
     "text": [
      "Your BMI is: 23.82\n",
      "You have a normal weight.\n"
     ]
    }
   ],
   "source": [
    "# Calculate Body Mass Index (BMI)\n",
    "BMI = weight / (height_meters ** 2)\n",
    "\n",
    "# Display the calculated BMI\n",
    "print(f\"Your BMI is: {BMI:.2f}\")\n",
    "\n",
    "# Categorize BMI result\n",
    "if BMI < 18.5:\n",
    "    print(\"You are underweight.\")\n",
    "elif BMI < 25:\n",
    "    print(\"You have a normal weight.\")\n",
    "elif BMI < 30:\n",
    "    print(\"You are overweight.\")\n",
    "else:\n",
    "    print(\"You are very overweight.\")\n"
   ]
  },
  {
   "cell_type": "code",
   "execution_count": null,
   "id": "66cc8fe8-adec-4792-9303-9476ee8830b9",
   "metadata": {},
   "outputs": [],
   "source": []
  }
 ],
 "metadata": {
  "kernelspec": {
   "display_name": "Python 3 (ipykernel)",
   "language": "python",
   "name": "python3"
  },
  "language_info": {
   "codemirror_mode": {
    "name": "ipython",
    "version": 3
   },
   "file_extension": ".py",
   "mimetype": "text/x-python",
   "name": "python",
   "nbconvert_exporter": "python",
   "pygments_lexer": "ipython3",
   "version": "3.12.4"
  }
 },
 "nbformat": 4,
 "nbformat_minor": 5
}
