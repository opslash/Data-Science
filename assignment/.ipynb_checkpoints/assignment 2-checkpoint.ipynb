{
 "cells": [
  {
   "cell_type": "code",
   "execution_count": null,
   "id": "3c89fd0e-ed0d-45c1-bb09-bb12e7b75f5e",
   "metadata": {},
   "outputs": [],
   "source": [
    "# using while loop\n",
    "p = input(\"Enter your phone number: \")\n",
    "\n",
    "sum = 0\n",
    "i = 0\n",
    "\n",
    "while i < len(p):\n",
    "    sum += int(p[i])\n",
    "\n",
    "    i += 1\n",
    "    \n",
    "    if sum > 9:\n",
    "        a = str(sum)\n",
    "        sum = int(a[0]) + int(a[1])\n",
    "\n",
    "\n",
    "print(\"The sum of digits is:\", sum)"
   ]
  },
  {
   "cell_type": "code",
   "execution_count": 6,
   "id": "f05dbb65-9bdb-40fa-8280-6a49804126ef",
   "metadata": {},
   "outputs": [
    {
     "name": "stdin",
     "output_type": "stream",
     "text": [
      "Enter your phone number:  4546546\n"
     ]
    },
    {
     "name": "stdout",
     "output_type": "stream",
     "text": [
      "The sum of digits is: 7\n"
     ]
    }
   ],
   "source": [
    "# using for loop\n",
    "p = input(\"Enter your phone number: \")\n",
    "\n",
    "sum = 0\n",
    "\n",
    "for i in range(len(p)):\n",
    "    sum += int(p[i])\n",
    "\n",
    "    if sum >= 10:\n",
    "        a = str(sum)\n",
    "        sum = int(a[0]) + int(a[1])\n",
    "\n",
    "print(\"The sum of digits is:\", sum)"
   ]
  },
  {
   "cell_type": "code",
   "execution_count": null,
   "id": "e8a99773-a370-48f0-8014-755ae6669972",
   "metadata": {},
   "outputs": [],
   "source": []
  }
 ],
 "metadata": {
  "kernelspec": {
   "display_name": "Python 3 (ipykernel)",
   "language": "python",
   "name": "python3"
  },
  "language_info": {
   "codemirror_mode": {
    "name": "ipython",
    "version": 3
   },
   "file_extension": ".py",
   "mimetype": "text/x-python",
   "name": "python",
   "nbconvert_exporter": "python",
   "pygments_lexer": "ipython3",
   "version": "3.12.4"
  }
 },
 "nbformat": 4,
 "nbformat_minor": 5
}
