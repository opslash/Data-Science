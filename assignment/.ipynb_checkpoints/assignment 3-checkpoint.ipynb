{
 "cells": [
  {
   "cell_type": "code",
   "execution_count": 1,
   "id": "b19c8cb7-95b0-4327-8dac-0b1a6e8f52e2",
   "metadata": {},
   "outputs": [
    {
     "name": "stdout",
     "output_type": "stream",
     "text": [
      "['0179', '0269', '0359', '1259', '1349', '2789', '3689', '4589', '4679']\n"
     ]
    }
   ],
   "source": [
    "li = []\n",
    "\n",
    "for i in range (0,10):\n",
    "    for j in range (1,10):\n",
    "        for k in range (2,10):\n",
    "            if i<j<k<9:\n",
    "                w = i+j+k+9\n",
    "                s = str(w)\n",
    "                ll = []\n",
    "                for a in s:\n",
    "                    ll.append(a)\n",
    "                if  (int(ll[0])+int(ll[1]))==8:\n",
    "                    s = str(i) + str(j) + str(k) + str(9)\n",
    "                    li.append(s)\n",
    "\n",
    "print(li)"
   ]
  },
  {
   "cell_type": "code",
   "execution_count": null,
   "id": "b4c194ea-55de-42d1-b5be-8a7f69c4b672",
   "metadata": {},
   "outputs": [],
   "source": []
  }
 ],
 "metadata": {
  "kernelspec": {
   "display_name": "Python 3 (ipykernel)",
   "language": "python",
   "name": "python3"
  },
  "language_info": {
   "codemirror_mode": {
    "name": "ipython",
    "version": 3
   },
   "file_extension": ".py",
   "mimetype": "text/x-python",
   "name": "python",
   "nbconvert_exporter": "python",
   "pygments_lexer": "ipython3",
   "version": "3.12.4"
  }
 },
 "nbformat": 4,
 "nbformat_minor": 5
}
