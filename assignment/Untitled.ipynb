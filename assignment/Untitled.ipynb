{
 "cells": [
  {
   "cell_type": "code",
   "execution_count": 7,
   "id": "b303c7d1-80dc-4b62-b2ae-63d187198129",
   "metadata": {},
   "outputs": [
    {
     "name": "stdin",
     "output_type": "stream",
     "text": [
      "enter tour phone number:  5465\n"
     ]
    },
    {
     "data": {
      "text/plain": [
       "'5465'"
      ]
     },
     "execution_count": 7,
     "metadata": {},
     "output_type": "execute_result"
    }
   ],
   "source": [
    "phn = input(\"enter tour phone number: \")\n",
    "phn"
   ]
  },
  {
   "cell_type": "code",
   "execution_count": 8,
   "id": "f4c56c01-dd1a-4048-9a0d-08b49c6d2cf3",
   "metadata": {},
   "outputs": [
    {
     "name": "stdin",
     "output_type": "stream",
     "text": [
      "Enter your phone number:  5465465\n"
     ]
    },
    {
     "name": "stdout",
     "output_type": "stream",
     "text": [
      "You entered: 5465465\n",
      "Data type of 'phn': <class 'str'>\n"
     ]
    }
   ],
   "source": [
    "# Input for phone number\n",
    "phn = input(\"Enter your phone number: \")\n",
    "\n",
    "# Display the input and its data type\n",
    "print(\"You entered:\", phn)\n",
    "print(\"Data type of 'phn':\", type(phn))"
   ]
  },
  {
   "cell_type": "code",
   "execution_count": null,
   "id": "3c89fd0e-ed0d-45c1-bb09-bb12e7b75f5e",
   "metadata": {},
   "outputs": [],
   "source": []
  }
 ],
 "metadata": {
  "kernelspec": {
   "display_name": "Python 3 (ipykernel)",
   "language": "python",
   "name": "python3"
  },
  "language_info": {
   "codemirror_mode": {
    "name": "ipython",
    "version": 3
   },
   "file_extension": ".py",
   "mimetype": "text/x-python",
   "name": "python",
   "nbconvert_exporter": "python",
   "pygments_lexer": "ipython3",
   "version": "3.12.4"
  }
 },
 "nbformat": 4,
 "nbformat_minor": 5
}
