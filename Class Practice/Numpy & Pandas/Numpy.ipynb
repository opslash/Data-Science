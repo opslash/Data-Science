{
 "cells": [
  {
   "cell_type": "code",
   "execution_count": 55,
   "id": "3dd38502-918d-4d30-918e-43d4f4291c3c",
   "metadata": {},
   "outputs": [],
   "source": [
    "import numpy as np"
   ]
  },
  {
   "cell_type": "markdown",
   "id": "c1583925-8d3b-404e-92e5-ecae211eaff4",
   "metadata": {},
   "source": [
    "### 0 - D"
   ]
  },
  {
   "cell_type": "code",
   "execution_count": 58,
   "id": "62f27b42-9138-4fb7-9fac-acb6723f7b33",
   "metadata": {},
   "outputs": [
    {
     "name": "stdout",
     "output_type": "stream",
     "text": [
      "45\n",
      "<class 'int'>\n"
     ]
    }
   ],
   "source": [
    "a = 45\n",
    "print(a)\n",
    "print(type(a))"
   ]
  },
  {
   "cell_type": "code",
   "execution_count": 60,
   "id": "18497658-82f5-4a96-a1c9-1808f8aebc8f",
   "metadata": {},
   "outputs": [
    {
     "name": "stdout",
     "output_type": "stream",
     "text": [
      "45\n",
      "<class 'numpy.ndarray'>\n"
     ]
    }
   ],
   "source": [
    "a = 45 \n",
    "arr_0 = np.array(a)\n",
    "print(a)\n",
    "print(type(arr_0))"
   ]
  },
  {
   "cell_type": "code",
   "execution_count": 62,
   "id": "9c2a6234-1bc4-4059-9dec-80712866b705",
   "metadata": {},
   "outputs": [
    {
     "data": {
      "text/plain": [
       "0"
      ]
     },
     "execution_count": 62,
     "metadata": {},
     "output_type": "execute_result"
    }
   ],
   "source": [
    "arr_0.ndim"
   ]
  },
  {
   "cell_type": "code",
   "execution_count": 64,
   "id": "ed05ca67-62b4-4313-8778-37ac8c6983f5",
   "metadata": {},
   "outputs": [
    {
     "data": {
      "text/plain": [
       "()"
      ]
     },
     "execution_count": 64,
     "metadata": {},
     "output_type": "execute_result"
    }
   ],
   "source": [
    "arr_0.shape"
   ]
  },
  {
   "cell_type": "markdown",
   "id": "59e8a9b2-95cf-4bc7-bff2-1186d67e8287",
   "metadata": {},
   "source": [
    "### 1 - D"
   ]
  },
  {
   "cell_type": "code",
   "execution_count": 67,
   "id": "5509784f-4cbf-46c8-8327-f97f437cb22f",
   "metadata": {},
   "outputs": [
    {
     "name": "stdout",
     "output_type": "stream",
     "text": [
      "[[1 2 3]]\n"
     ]
    }
   ],
   "source": [
    "a = [1,2,3]\n",
    "arr_1 = np.array(a)\n",
    "print(arr_2)"
   ]
  },
  {
   "cell_type": "code",
   "execution_count": 69,
   "id": "2ef891e4-ef77-4f86-a277-e1035e17935e",
   "metadata": {},
   "outputs": [
    {
     "data": {
      "text/plain": [
       "1"
      ]
     },
     "execution_count": 69,
     "metadata": {},
     "output_type": "execute_result"
    }
   ],
   "source": [
    "arr_1.ndim"
   ]
  },
  {
   "cell_type": "code",
   "execution_count": 71,
   "id": "fb9f7a50-4895-448e-b658-77c381af9e71",
   "metadata": {},
   "outputs": [
    {
     "data": {
      "text/plain": [
       "(3,)"
      ]
     },
     "execution_count": 71,
     "metadata": {},
     "output_type": "execute_result"
    }
   ],
   "source": [
    "arr_1.shape"
   ]
  },
  {
   "cell_type": "markdown",
   "id": "30d60780-8015-498a-a539-2fa5f117c780",
   "metadata": {},
   "source": [
    "### 2 - D"
   ]
  },
  {
   "cell_type": "code",
   "execution_count": 74,
   "id": "afd1ca70-9758-4c9e-82ad-339dec20bfa0",
   "metadata": {},
   "outputs": [
    {
     "name": "stdout",
     "output_type": "stream",
     "text": [
      "[[1 2 3]]\n"
     ]
    }
   ],
   "source": [
    "a = [[1,2,3]]\n",
    "arr_2 = np.array(a)\n",
    "print(arr_2)"
   ]
  },
  {
   "cell_type": "code",
   "execution_count": 76,
   "id": "bf521527-f53e-4f69-9793-6db126232a9c",
   "metadata": {},
   "outputs": [
    {
     "data": {
      "text/plain": [
       "2"
      ]
     },
     "execution_count": 76,
     "metadata": {},
     "output_type": "execute_result"
    }
   ],
   "source": [
    "arr_2.ndim"
   ]
  },
  {
   "cell_type": "code",
   "execution_count": 78,
   "id": "ea733e1a-6edd-4a44-a40d-03554b4631e3",
   "metadata": {},
   "outputs": [
    {
     "data": {
      "text/plain": [
       "(1, 3)"
      ]
     },
     "execution_count": 78,
     "metadata": {},
     "output_type": "execute_result"
    }
   ],
   "source": [
    "arr_2.shape"
   ]
  },
  {
   "cell_type": "markdown",
   "id": "581558a8-d54d-49e9-b9dd-59f6c99c2dd9",
   "metadata": {},
   "source": [
    "## Functions for creating 1D array"
   ]
  },
  {
   "cell_type": "code",
   "execution_count": 93,
   "id": "a921c16a-aa2a-465f-9afb-dac59198d262",
   "metadata": {},
   "outputs": [
    {
     "name": "stdout",
     "output_type": "stream",
     "text": [
      "[0 1 2 3 4 5 6 7 8 9]\n"
     ]
    }
   ],
   "source": [
    "a = np.arange(10)\n",
    "print(a)"
   ]
  },
  {
   "cell_type": "code",
   "execution_count": 117,
   "id": "21db5453-bf3b-46ce-9f01-4d593e19248a",
   "metadata": {},
   "outputs": [
    {
     "data": {
      "text/plain": [
       "array([1.        , 1.44444444, 1.88888889, 2.33333333, 2.77777778,\n",
       "       3.22222222, 3.66666667, 4.11111111, 4.55555556, 5.        ])"
      ]
     },
     "execution_count": 117,
     "metadata": {},
     "output_type": "execute_result"
    }
   ],
   "source": [
    "np.linspace(1,5,10)"
   ]
  },
  {
   "cell_type": "code",
   "execution_count": 213,
   "id": "19a89426-2213-4017-98f3-f03527f07acc",
   "metadata": {},
   "outputs": [
    {
     "data": {
      "text/plain": [
       "array([0., 0.])"
      ]
     },
     "execution_count": 213,
     "metadata": {},
     "output_type": "execute_result"
    }
   ],
   "source": [
    "np.zeros((2,))"
   ]
  },
  {
   "cell_type": "code",
   "execution_count": 215,
   "id": "20e80fec-737b-41eb-82f0-c59fb1654503",
   "metadata": {},
   "outputs": [
    {
     "data": {
      "text/plain": [
       "array([1., 1.])"
      ]
     },
     "execution_count": 215,
     "metadata": {},
     "output_type": "execute_result"
    }
   ],
   "source": [
    "np.ones((2,))\n"
   ]
  },
  {
   "cell_type": "code",
   "execution_count": 219,
   "id": "666e6ad3-c96a-4d8b-a6b8-f2bf7a0dc60a",
   "metadata": {},
   "outputs": [
    {
     "data": {
      "text/plain": [
       "array([720, 612, 183, 969, 379])"
      ]
     },
     "execution_count": 219,
     "metadata": {},
     "output_type": "execute_result"
    }
   ],
   "source": [
    "np.random.randint(1,1000,5)"
   ]
  },
  {
   "cell_type": "markdown",
   "id": "d2cd634a-7826-4030-b715-ccff3c697a98",
   "metadata": {},
   "source": [
    "## Acessing elements/extracting the values"
   ]
  },
  {
   "cell_type": "code",
   "execution_count": 121,
   "id": "decdb55b-91fc-477f-9d16-5714acd2a27d",
   "metadata": {},
   "outputs": [
    {
     "name": "stdout",
     "output_type": "stream",
     "text": [
      "[10 20 30 40 50]\n"
     ]
    }
   ],
   "source": [
    "a = np.arange(10,51,10)\n",
    "print(a)"
   ]
  },
  {
   "cell_type": "code",
   "execution_count": 123,
   "id": "bf965062-0035-4c75-9cc9-0eff141707ae",
   "metadata": {},
   "outputs": [
    {
     "data": {
      "text/plain": [
       "20"
      ]
     },
     "execution_count": 123,
     "metadata": {},
     "output_type": "execute_result"
    }
   ],
   "source": [
    "a[1]"
   ]
  },
  {
   "cell_type": "code",
   "execution_count": 125,
   "id": "2941751a-6ae4-47ad-8132-49e88870b5c5",
   "metadata": {},
   "outputs": [
    {
     "data": {
      "text/plain": [
       "50"
      ]
     },
     "execution_count": 125,
     "metadata": {},
     "output_type": "execute_result"
    }
   ],
   "source": [
    "a[-1]"
   ]
  },
  {
   "cell_type": "code",
   "execution_count": 127,
   "id": "4ddb1d05-8925-4956-9ab6-fa5b271c81fa",
   "metadata": {},
   "outputs": [
    {
     "data": {
      "text/plain": [
       "array([20, 40])"
      ]
     },
     "execution_count": 127,
     "metadata": {},
     "output_type": "execute_result"
    }
   ],
   "source": [
    "a[1:5:2]"
   ]
  },
  {
   "cell_type": "code",
   "execution_count": 131,
   "id": "e313901a-3eef-4ac0-8ff3-9d2ce9ed388c",
   "metadata": {},
   "outputs": [
    {
     "data": {
      "text/plain": [
       "array([50, 30])"
      ]
     },
     "execution_count": 131,
     "metadata": {},
     "output_type": "execute_result"
    }
   ],
   "source": [
    "a[-1:-5:-2]"
   ]
  },
  {
   "cell_type": "code",
   "execution_count": 137,
   "id": "15d71f72-99bb-496c-9bff-44bf58ff6689",
   "metadata": {},
   "outputs": [
    {
     "data": {
      "text/plain": [
       "array([10, 40, 30, 50])"
      ]
     },
     "execution_count": 137,
     "metadata": {},
     "output_type": "execute_result"
    }
   ],
   "source": [
    "a[[0,3,2,4]]"
   ]
  },
  {
   "cell_type": "code",
   "execution_count": 139,
   "id": "6268df71-b3b5-43fb-8546-eb74a1cb96ce",
   "metadata": {},
   "outputs": [
    {
     "data": {
      "text/plain": [
       "array([46])"
      ]
     },
     "execution_count": 139,
     "metadata": {},
     "output_type": "execute_result"
    }
   ],
   "source": [
    "a = np.array([45,46,47])\n",
    "\n",
    "a[a%2 == 0]"
   ]
  },
  {
   "cell_type": "markdown",
   "id": "caa8d80d-de71-4a98-9e13-239091e5cb84",
   "metadata": {},
   "source": [
    "Modify the Values in Numpy\n"
   ]
  },
  {
   "cell_type": "code",
   "execution_count": 147,
   "id": "2382bdc1-dc2d-4893-ae5c-6ce3a4e78569",
   "metadata": {},
   "outputs": [
    {
     "name": "stdout",
     "output_type": "stream",
     "text": [
      "[ 45  46  47 110]\n"
     ]
    }
   ],
   "source": [
    "a = np.array([45,46,47])\n",
    "\n",
    "a1 = np.append(a,110)\n",
    "print(a1)"
   ]
  },
  {
   "cell_type": "code",
   "execution_count": 151,
   "id": "46573115-f202-4616-906d-96d0ffbc0163",
   "metadata": {},
   "outputs": [
    {
     "name": "stdout",
     "output_type": "stream",
     "text": [
      "[ 45  46 110 110 123 120]\n"
     ]
    }
   ],
   "source": [
    "a = np.array([45,46,110])\n",
    "\n",
    "a2 = np.append(a,[110,123,120])\n",
    "print(a2)"
   ]
  },
  {
   "cell_type": "code",
   "execution_count": 153,
   "id": "8697c9ab-36ca-4a3f-8e9c-0d25131638ab",
   "metadata": {},
   "outputs": [
    {
     "name": "stdout",
     "output_type": "stream",
     "text": [
      "[150  46 110]\n"
     ]
    }
   ],
   "source": [
    "a[0] = 150\n",
    "print(a)"
   ]
  },
  {
   "cell_type": "code",
   "execution_count": 155,
   "id": "29fc44f6-05a8-468f-a0c1-0fad7b2edaf8",
   "metadata": {},
   "outputs": [
    {
     "data": {
      "text/plain": [
       "array([150,  15,  15])"
      ]
     },
     "execution_count": 155,
     "metadata": {},
     "output_type": "execute_result"
    }
   ],
   "source": [
    "a[[1,2]] = 15\n",
    "a"
   ]
  },
  {
   "cell_type": "code",
   "execution_count": 159,
   "id": "89904bf0-a0a7-418e-b390-45c7841d8ed3",
   "metadata": {},
   "outputs": [
    {
     "data": {
      "text/plain": [
       "array([150, 460,  14])"
      ]
     },
     "execution_count": 159,
     "metadata": {},
     "output_type": "execute_result"
    }
   ],
   "source": [
    "a[[1,2]] = [460,14]\n",
    "a"
   ]
  },
  {
   "cell_type": "code",
   "execution_count": 161,
   "id": "b7706188-4446-4255-acf3-654189de7d4f",
   "metadata": {},
   "outputs": [
    {
     "name": "stdout",
     "output_type": "stream",
     "text": [
      "[150  14]\n"
     ]
    }
   ],
   "source": [
    "a3 = np.delete(a,1)\n",
    "print(a3)"
   ]
  },
  {
   "cell_type": "code",
   "execution_count": 169,
   "id": "602aaf77-616b-4c5c-bae8-be56fb05c8ce",
   "metadata": {},
   "outputs": [
    {
     "name": "stdout",
     "output_type": "stream",
     "text": [
      "[150]\n"
     ]
    },
    {
     "data": {
      "text/plain": [
       "array([150])"
      ]
     },
     "execution_count": 169,
     "metadata": {},
     "output_type": "execute_result"
    }
   ],
   "source": [
    "a4 = np.delete(a,[1,2])\n",
    "print(a4)\n",
    "a4"
   ]
  },
  {
   "cell_type": "code",
   "execution_count": 171,
   "id": "fbd3a8ec-c058-4532-aabf-7cfed53ede4c",
   "metadata": {},
   "outputs": [
    {
     "name": "stdout",
     "output_type": "stream",
     "text": [
      "[1 2 3]\n",
      "[100   2   3]\n"
     ]
    }
   ],
   "source": [
    "a = np.array([1,2,3])\n",
    "b = a.copy()\n",
    "b[0] = 100\n",
    "print(a)\n",
    "print(b)"
   ]
  },
  {
   "cell_type": "code",
   "execution_count": 173,
   "id": "2273ceb0-ab2f-46b6-a33c-75a24648be71",
   "metadata": {},
   "outputs": [
    {
     "name": "stdout",
     "output_type": "stream",
     "text": [
      "[1 2 4 6 8]\n"
     ]
    }
   ],
   "source": [
    "a = np.array([4,6,8,2,1])\n",
    "\n",
    "b = np.sort(a)\n",
    "print(b)"
   ]
  },
  {
   "cell_type": "markdown",
   "id": "92764b81-5694-4c8a-8d47-a55d4feae24d",
   "metadata": {},
   "source": [
    "OPERATIONS"
   ]
  },
  {
   "cell_type": "code",
   "execution_count": 175,
   "id": "93fce609-ee47-420e-8cdf-4508f7fe22b4",
   "metadata": {},
   "outputs": [],
   "source": [
    "a = np.array([1,2,3,4])"
   ]
  },
  {
   "cell_type": "code",
   "execution_count": 177,
   "id": "4dee868e-f4df-4df5-9848-6e2777db269a",
   "metadata": {},
   "outputs": [
    {
     "name": "stdout",
     "output_type": "stream",
     "text": [
      "[2 3 4 5]\n"
     ]
    }
   ],
   "source": [
    "b = a+1\n",
    "print(b)"
   ]
  },
  {
   "cell_type": "code",
   "execution_count": 179,
   "id": "b65f9ab4-1fb9-4e22-847d-5d22d00dc55a",
   "metadata": {},
   "outputs": [
    {
     "name": "stdout",
     "output_type": "stream",
     "text": [
      "[1 2 3 4]\n"
     ]
    }
   ],
   "source": [
    "c = a+0\n",
    "print(c)"
   ]
  },
  {
   "cell_type": "code",
   "execution_count": 183,
   "id": "688d4bff-7e9c-4849-88ad-f19aa727b2d9",
   "metadata": {},
   "outputs": [
    {
     "name": "stdout",
     "output_type": "stream",
     "text": [
      "[ 1  4  9 16]\n"
     ]
    }
   ],
   "source": [
    "d = a**2\n",
    "print(d)"
   ]
  },
  {
   "cell_type": "code",
   "execution_count": 185,
   "id": "b834f465-1b99-43fa-9f76-c4ce0af7c761",
   "metadata": {},
   "outputs": [
    {
     "name": "stdout",
     "output_type": "stream",
     "text": [
      "[3 5 7 9]\n"
     ]
    }
   ],
   "source": [
    "print(a+b)"
   ]
  },
  {
   "cell_type": "code",
   "execution_count": 189,
   "id": "981ac94d-db19-4a85-8370-cb1df48c34ab",
   "metadata": {},
   "outputs": [
    {
     "name": "stdout",
     "output_type": "stream",
     "text": [
      "[1 2 3 4]\n",
      "[2 3 4 5]\n",
      "[-1 -1 -1 -1]\n"
     ]
    }
   ],
   "source": [
    "print(a)\n",
    "print(b)\n",
    "print(a-b)"
   ]
  },
  {
   "cell_type": "code",
   "execution_count": 193,
   "id": "81f8462f-d93c-4974-8f85-01b0a7a2d83f",
   "metadata": {},
   "outputs": [
    {
     "name": "stdout",
     "output_type": "stream",
     "text": [
      "[ 2  6 12 20]\n"
     ]
    }
   ],
   "source": [
    "print(a*b)"
   ]
  },
  {
   "cell_type": "markdown",
   "id": "3fab96bb-de19-4107-8695-0c3db738f25b",
   "metadata": {},
   "source": [
    "## comparison operator"
   ]
  },
  {
   "cell_type": "code",
   "execution_count": 197,
   "id": "31893328-1bb4-492b-874c-11845825aca4",
   "metadata": {},
   "outputs": [
    {
     "name": "stdout",
     "output_type": "stream",
     "text": [
      "[1 2 3 4]\n",
      "[1 2 3 4]\n"
     ]
    },
    {
     "data": {
      "text/plain": [
       "array([ True,  True,  True,  True])"
      ]
     },
     "execution_count": 197,
     "metadata": {},
     "output_type": "execute_result"
    }
   ],
   "source": [
    "print(a)\n",
    "print(c)\n",
    "a == c"
   ]
  },
  {
   "cell_type": "code",
   "execution_count": 199,
   "id": "4cd6b3f4-c05b-47fa-a11d-d8cb73b47175",
   "metadata": {},
   "outputs": [
    {
     "data": {
      "text/plain": [
       "array([ True,  True,  True,  True])"
      ]
     },
     "execution_count": 199,
     "metadata": {},
     "output_type": "execute_result"
    }
   ],
   "source": [
    "c >= a"
   ]
  },
  {
   "cell_type": "code",
   "execution_count": 201,
   "id": "067bfb06-8853-47a2-8292-a7d1ed10fd2a",
   "metadata": {},
   "outputs": [
    {
     "data": {
      "text/plain": [
       "False"
      ]
     },
     "execution_count": 201,
     "metadata": {},
     "output_type": "execute_result"
    }
   ],
   "source": [
    "np.array_equal(a,b)"
   ]
  },
  {
   "cell_type": "code",
   "execution_count": 222,
   "id": "7f443bdf-0697-48c1-a852-edf638fd9c96",
   "metadata": {},
   "outputs": [
    {
     "data": {
      "text/plain": [
       "True"
      ]
     },
     "execution_count": 222,
     "metadata": {},
     "output_type": "execute_result"
    }
   ],
   "source": [
    "np.array_equal(a,c)"
   ]
  },
  {
   "cell_type": "markdown",
   "id": "55871b34-b6cc-4d2d-9c3d-424ae841a862",
   "metadata": {},
   "source": [
    "### Mathematical operations"
   ]
  },
  {
   "cell_type": "code",
   "execution_count": 225,
   "id": "00e0628a-713d-49b4-9ddf-2886da81cb5f",
   "metadata": {},
   "outputs": [
    {
     "data": {
      "text/plain": [
       "array([ 2.71828183,  7.3890561 , 20.08553692, 54.59815003])"
      ]
     },
     "execution_count": 225,
     "metadata": {},
     "output_type": "execute_result"
    }
   ],
   "source": [
    "np.exp(a)\n"
   ]
  },
  {
   "cell_type": "code",
   "execution_count": 227,
   "id": "f28da6cb-c37a-4e42-93ad-6fd39187ed92",
   "metadata": {},
   "outputs": [
    {
     "data": {
      "text/plain": [
       "array([0.        , 0.69314718, 1.09861229, 1.38629436])"
      ]
     },
     "execution_count": 227,
     "metadata": {},
     "output_type": "execute_result"
    }
   ],
   "source": [
    "np.log(a)"
   ]
  },
  {
   "cell_type": "code",
   "execution_count": 231,
   "id": "9ed8d262-b68f-477b-bb48-768a0ff8b456",
   "metadata": {},
   "outputs": [],
   "source": [
    "import warnings\n",
    "warnings.simplefilter(\"ignore\")"
   ]
  },
  {
   "cell_type": "markdown",
   "id": "357a7931-672b-464a-9acc-c29b214162d3",
   "metadata": {},
   "source": [
    "### 2D Numpy Array"
   ]
  },
  {
   "cell_type": "code",
   "execution_count": 238,
   "id": "9b840c2c-6a92-4398-8331-e24eb813be7d",
   "metadata": {},
   "outputs": [
    {
     "data": {
      "text/plain": [
       "array([[1, 2, 3, 4],\n",
       "       [5, 6, 7, 8]])"
      ]
     },
     "execution_count": 238,
     "metadata": {},
     "output_type": "execute_result"
    }
   ],
   "source": [
    "b = np.array([[1,2,3,4],[5,6,7,8]])\n",
    "b"
   ]
  },
  {
   "cell_type": "code",
   "execution_count": 240,
   "id": "771e27e2-430d-4ccc-8fac-fc1a002e7462",
   "metadata": {},
   "outputs": [
    {
     "data": {
      "text/plain": [
       "2"
      ]
     },
     "execution_count": 240,
     "metadata": {},
     "output_type": "execute_result"
    }
   ],
   "source": [
    "b.ndim"
   ]
  },
  {
   "cell_type": "code",
   "execution_count": 242,
   "id": "f81b4ca7-e1ef-4c41-baea-7886ea424ee2",
   "metadata": {},
   "outputs": [
    {
     "data": {
      "text/plain": [
       "(2, 4)"
      ]
     },
     "execution_count": 242,
     "metadata": {},
     "output_type": "execute_result"
    }
   ],
   "source": [
    "b.shape"
   ]
  },
  {
   "cell_type": "code",
   "execution_count": 246,
   "id": "6c5809ad-68e7-4f89-aeb9-774ceef6bfb1",
   "metadata": {},
   "outputs": [
    {
     "data": {
      "text/plain": [
       "array([[0., 0., 0.],\n",
       "       [0., 0., 0.],\n",
       "       [0., 0., 0.]])"
      ]
     },
     "execution_count": 246,
     "metadata": {},
     "output_type": "execute_result"
    }
   ],
   "source": [
    "np.zeros((3,3))"
   ]
  },
  {
   "cell_type": "code",
   "execution_count": 258,
   "id": "b8eea003-7858-405a-b712-c24e492eb667",
   "metadata": {},
   "outputs": [
    {
     "data": {
      "text/plain": [
       "array([[0, 0, 0],\n",
       "       [0, 0, 0],\n",
       "       [0, 0, 0]])"
      ]
     },
     "execution_count": 258,
     "metadata": {},
     "output_type": "execute_result"
    }
   ],
   "source": [
    "np.zeros((3,3),dtype=int)"
   ]
  },
  {
   "cell_type": "code",
   "execution_count": 260,
   "id": "c98e3499-187d-4907-ac6e-c8deb9749c1e",
   "metadata": {},
   "outputs": [
    {
     "data": {
      "text/plain": [
       "array([[1, 1, 1],\n",
       "       [1, 1, 1],\n",
       "       [1, 1, 1]])"
      ]
     },
     "execution_count": 260,
     "metadata": {},
     "output_type": "execute_result"
    }
   ],
   "source": [
    "np.ones((3,3))"
   ]
  },
  {
   "cell_type": "code",
   "execution_count": 262,
   "id": "b94e83ae-b4a0-48f4-858e-d87e104f04c0",
   "metadata": {},
   "outputs": [
    {
     "data": {
      "text/plain": [
       "array([[1., 0., 0.],\n",
       "       [0., 1., 0.],\n",
       "       [0., 0., 1.]])"
      ]
     },
     "execution_count": 262,
     "metadata": {},
     "output_type": "execute_result"
    }
   ],
   "source": [
    "np.eye(3,3)"
   ]
  },
  {
   "cell_type": "code",
   "execution_count": 264,
   "id": "4caee736-a229-45d0-9adf-6eeb0db4bde9",
   "metadata": {},
   "outputs": [
    {
     "data": {
      "text/plain": [
       "array([[1, 0, 0],\n",
       "       [0, 2, 0],\n",
       "       [0, 0, 3]])"
      ]
     },
     "execution_count": 264,
     "metadata": {},
     "output_type": "execute_result"
    }
   ],
   "source": [
    "np.diag([1,2,3])"
   ]
  },
  {
   "cell_type": "code",
   "execution_count": 270,
   "id": "e47acd43-29e8-44a2-805e-be9dfafae362",
   "metadata": {},
   "outputs": [
    {
     "data": {
      "text/plain": [
       "array([1, 4])"
      ]
     },
     "execution_count": 270,
     "metadata": {},
     "output_type": "execute_result"
    }
   ],
   "source": [
    "a = np.array([[1,2,3],[3,4,5]])\n",
    "np.diag(a)"
   ]
  },
  {
   "cell_type": "code",
   "execution_count": 274,
   "id": "8f17b6cb-2091-4d80-81bc-98c2b12afa43",
   "metadata": {},
   "outputs": [
    {
     "data": {
      "text/plain": [
       "array([[1, 2, 3],\n",
       "       [3, 4, 5],\n",
       "       [6, 7, 8]])"
      ]
     },
     "execution_count": 274,
     "metadata": {},
     "output_type": "execute_result"
    }
   ],
   "source": [
    "a = np.array([[1,2,3],[3,4,5],[6,7,8]])\n",
    "a"
   ]
  },
  {
   "cell_type": "markdown",
   "id": "d4a3aa88-f221-4ae4-9521-f3ef7b43efc8",
   "metadata": {},
   "source": [
    "### indexing of 2D array"
   ]
  },
  {
   "cell_type": "code",
   "execution_count": 278,
   "id": "1217b6af-1d69-4021-85a3-cb61f72d589e",
   "metadata": {},
   "outputs": [
    {
     "data": {
      "text/plain": [
       "array([1, 2, 3])"
      ]
     },
     "execution_count": 278,
     "metadata": {},
     "output_type": "execute_result"
    }
   ],
   "source": [
    "a[0]"
   ]
  },
  {
   "cell_type": "markdown",
   "id": "cae37e87-d985-46d0-838e-65aeb74e2770",
   "metadata": {},
   "source": [
    "a[2,2]  #row,column"
   ]
  },
  {
   "cell_type": "code",
   "execution_count": 282,
   "id": "2ad6793f-f815-4678-8b00-82cca610d790",
   "metadata": {},
   "outputs": [
    {
     "data": {
      "text/plain": [
       "array([[3, 4, 5],\n",
       "       [6, 7, 8]])"
      ]
     },
     "execution_count": 282,
     "metadata": {},
     "output_type": "execute_result"
    }
   ],
   "source": [
    "a[1:3]"
   ]
  },
  {
   "cell_type": "code",
   "execution_count": 284,
   "id": "b49d64e5-7b86-4f6d-aa4c-e013c57926c8",
   "metadata": {},
   "outputs": [
    {
     "data": {
      "text/plain": [
       "array([[ 1,  2,  3],\n",
       "       [25, 30, 60],\n",
       "       [ 6,  7,  8]])"
      ]
     },
     "execution_count": 284,
     "metadata": {},
     "output_type": "execute_result"
    }
   ],
   "source": [
    "a[1] = [25,30,60]\n",
    "a"
   ]
  },
  {
   "cell_type": "code",
   "execution_count": 294,
   "id": "388067f5-7ae2-4574-bd78-fec798671029",
   "metadata": {},
   "outputs": [
    {
     "data": {
      "text/plain": [
       "array([[  1,   2, 500],\n",
       "       [ 25,  30,  60],\n",
       "       [  6,   7,   8]])"
      ]
     },
     "execution_count": 294,
     "metadata": {},
     "output_type": "execute_result"
    }
   ],
   "source": [
    "a[0,2] = 500\n",
    "a"
   ]
  },
  {
   "cell_type": "code",
   "execution_count": 298,
   "id": "8a80ca90-1284-4fff-9075-cb362d9cd2a7",
   "metadata": {},
   "outputs": [
    {
     "data": {
      "text/plain": [
       "array([[ 1,  2,  0],\n",
       "       [25, 30,  0],\n",
       "       [ 6,  7,  0]])"
      ]
     },
     "execution_count": 298,
     "metadata": {},
     "output_type": "execute_result"
    }
   ],
   "source": [
    "a[:,2] = 0\n",
    "a"
   ]
  },
  {
   "cell_type": "code",
   "execution_count": 329,
   "id": "807000ad-5348-44f1-9c91-0994cc0bf461",
   "metadata": {},
   "outputs": [
    {
     "data": {
      "text/plain": [
       "array([[10, 10,  1],\n",
       "       [10, 10,  1],\n",
       "       [ 0,  0,  0]])"
      ]
     },
     "execution_count": 329,
     "metadata": {},
     "output_type": "execute_result"
    }
   ],
   "source": [
    "a[0:2,0:2] = 10\n",
    "a"
   ]
  },
  {
   "cell_type": "markdown",
   "id": "4db2b582-c3ec-4e75-b670-74f3b3741137",
   "metadata": {},
   "source": [
    "#### flatening"
   ]
  },
  {
   "cell_type": "code",
   "execution_count": 332,
   "id": "d1fc795d-83d2-4809-87f2-af91bc916629",
   "metadata": {},
   "outputs": [
    {
     "name": "stdout",
     "output_type": "stream",
     "text": [
      "[[0 1 2]\n",
      " [3 4 5]]\n",
      "[0 1 2 3 4 5]\n"
     ]
    }
   ],
   "source": [
    "a = np.array([[0,1,2],[3,4,5]])\n",
    "print(a)\n",
    "\n",
    "b = a.ravel()\n",
    "print(b)"
   ]
  },
  {
   "cell_type": "markdown",
   "id": "2a557b47-257f-42d8-b4a0-67f04274b717",
   "metadata": {},
   "source": [
    "##### reshape array"
   ]
  },
  {
   "cell_type": "code",
   "execution_count": 341,
   "id": "c5d5552a-b1b4-42a7-83a8-aeec409cb404",
   "metadata": {},
   "outputs": [
    {
     "name": "stdout",
     "output_type": "stream",
     "text": [
      "[0 1 2 3 4 5]\n",
      "(6,)\n"
     ]
    }
   ],
   "source": [
    "arr = np.arange(6)\n",
    "print(arr)\n",
    "print(arr.shape)"
   ]
  },
  {
   "cell_type": "code",
   "execution_count": 343,
   "id": "03a34434-1b54-4fcc-95d6-c7b9ca9fa972",
   "metadata": {},
   "outputs": [
    {
     "name": "stdout",
     "output_type": "stream",
     "text": [
      "[[0 1 2]\n",
      " [3 4 5]]\n"
     ]
    }
   ],
   "source": [
    "a1 = arr.reshape(2,3)\n",
    "print(a1)"
   ]
  },
  {
   "cell_type": "code",
   "execution_count": 347,
   "id": "7befe1b2-4546-4b54-a9a5-401141c65ade",
   "metadata": {},
   "outputs": [
    {
     "name": "stdout",
     "output_type": "stream",
     "text": [
      "[[ 0  1  5]\n",
      " [10 50  8]]\n",
      "(2, 3)\n"
     ]
    }
   ],
   "source": [
    "a = np.array([[0,1,5],[10,50,8]])\n",
    "print(a)\n",
    "print(a.shape)"
   ]
  },
  {
   "cell_type": "code",
   "execution_count": 349,
   "id": "ac2bfb92-d8cc-45db-84ed-6f2e47c10e2d",
   "metadata": {},
   "outputs": [
    {
     "name": "stdout",
     "output_type": "stream",
     "text": [
      "[[ 0  1]\n",
      " [ 5 10]\n",
      " [50  8]]\n"
     ]
    }
   ],
   "source": [
    "print(a.reshape(3,2))"
   ]
  },
  {
   "cell_type": "code",
   "execution_count": 361,
   "id": "9a570c17-a176-4d35-a8f7-4aaa13c21dd6",
   "metadata": {},
   "outputs": [
    {
     "name": "stdout",
     "output_type": "stream",
     "text": [
      "[[ 0  1  5]\n",
      " [10 50  8]]\n",
      "after transpose\n",
      "[[ 0 10]\n",
      " [ 1 50]\n",
      " [ 5  8]]\n"
     ]
    }
   ],
   "source": [
    "c = a.T\n",
    "print(a)\n",
    "print(\"after transpose\")\n",
    "print(c)"
   ]
  },
  {
   "cell_type": "markdown",
   "id": "e2b99e54-261a-4ab8-af05-282981cacd2e",
   "metadata": {},
   "source": [
    "#### sort"
   ]
  },
  {
   "cell_type": "code",
   "execution_count": 380,
   "id": "cd12a79b-4d2d-4609-876d-eaab0dd52cf4",
   "metadata": {},
   "outputs": [
    {
     "name": "stdout",
     "output_type": "stream",
     "text": [
      "[[ 2  4  2]\n",
      " [ 5  8  6]\n",
      " [ 8  9 20]] axis = 0\n",
      " \n",
      "[[ 4  5  6]\n",
      " [ 2  2  8]\n",
      " [ 8  9 20]] axis = 1\n"
     ]
    }
   ],
   "source": [
    "# axis = 1 --> row and axis = 0 -->column\n",
    "a = np.array([[5,4,6],[2,8,2],[8,9,20]])\n",
    "b = np.sort(a,axis = 0)\n",
    "print(b,\"axis = 0\")\n",
    "print(\" \")\n",
    "c = np.sort(a,axis = 1)\n",
    "print(c,\"axis = 1\")"
   ]
  },
  {
   "cell_type": "code",
   "execution_count": 386,
   "id": "12efe910-d207-4b08-b2b6-251bf931eb24",
   "metadata": {},
   "outputs": [
    {
     "name": "stdout",
     "output_type": "stream",
     "text": [
      "[[ 5  5 11]\n",
      " [12 58 10]\n",
      " [ 9 11 23]]\n"
     ]
    }
   ],
   "source": [
    "a = np.array([[5,4,6],[2,8,2],[8,9,20]])\n",
    "b = np.array([[0,1,5],[10,50,8],[1,2,3]])\n",
    "print(a+b)"
   ]
  },
  {
   "cell_type": "code",
   "execution_count": 388,
   "id": "adff6cdc-9acd-4ced-9a40-83f970546706",
   "metadata": {},
   "outputs": [
    {
     "name": "stdout",
     "output_type": "stream",
     "text": [
      "[[ 5 12]\n",
      " [21 32]]\n"
     ]
    }
   ],
   "source": [
    "a = np.array([[1,2],[3,4]])\n",
    "b = np.array([[5,6],[7,8]])\n",
    "print(a*b)"
   ]
  },
  {
   "cell_type": "code",
   "execution_count": 392,
   "id": "0d8432ee-b24b-4fd6-bb56-3546e983fb69",
   "metadata": {},
   "outputs": [
    {
     "data": {
      "text/plain": [
       "array([[19, 22],\n",
       "       [43, 50]])"
      ]
     },
     "execution_count": 392,
     "metadata": {},
     "output_type": "execute_result"
    }
   ],
   "source": [
    "a = np.array([[1,2],[3,4]])\n",
    "b = np.array([[5,6],[7,8]])\n",
    "\n",
    "np.matmul(a,b)"
   ]
  },
  {
   "cell_type": "code",
   "execution_count": 410,
   "id": "8ff7e94b-71b3-469a-bed1-6e719cb4a607",
   "metadata": {},
   "outputs": [
    {
     "data": {
      "text/plain": [
       "array([[1, 2],\n",
       "       [3, 4],\n",
       "       [5, 6],\n",
       "       [7, 8]])"
      ]
     },
     "execution_count": 410,
     "metadata": {},
     "output_type": "execute_result"
    }
   ],
   "source": [
    "np.concatenate((a,b),axis=0)"
   ]
  },
  {
   "cell_type": "code",
   "execution_count": 414,
   "id": "83b81afb-5940-4080-982a-45c21a2a7a1d",
   "metadata": {},
   "outputs": [
    {
     "data": {
      "text/plain": [
       "array([[1, 2],\n",
       "       [3, 4],\n",
       "       [5, 6],\n",
       "       [7, 8]])"
      ]
     },
     "execution_count": 414,
     "metadata": {},
     "output_type": "execute_result"
    }
   ],
   "source": [
    "np.vstack((a,b))"
   ]
  },
  {
   "cell_type": "code",
   "execution_count": 416,
   "id": "ae74c4f8-904f-4737-b065-24e52a29f600",
   "metadata": {},
   "outputs": [
    {
     "data": {
      "text/plain": [
       "array([[1, 2, 5, 6],\n",
       "       [3, 4, 7, 8]])"
      ]
     },
     "execution_count": 416,
     "metadata": {},
     "output_type": "execute_result"
    }
   ],
   "source": [
    "np.concatenate((a,b),axis=1)"
   ]
  },
  {
   "cell_type": "code",
   "execution_count": 418,
   "id": "5b3f394e-e83e-4fd4-bc61-9a7c38c39049",
   "metadata": {},
   "outputs": [
    {
     "data": {
      "text/plain": [
       "array([[1, 2, 5, 6],\n",
       "       [3, 4, 7, 8]])"
      ]
     },
     "execution_count": 418,
     "metadata": {},
     "output_type": "execute_result"
    }
   ],
   "source": [
    "np.hstack((a,b))"
   ]
  },
  {
   "cell_type": "code",
   "execution_count": null,
   "id": "76b654cb-ca48-41b9-a615-ccf245323cca",
   "metadata": {},
   "outputs": [],
   "source": []
  }
 ],
 "metadata": {
  "kernelspec": {
   "display_name": "Python 3 (ipykernel)",
   "language": "python",
   "name": "python3"
  },
  "language_info": {
   "codemirror_mode": {
    "name": "ipython",
    "version": 3
   },
   "file_extension": ".py",
   "mimetype": "text/x-python",
   "name": "python",
   "nbconvert_exporter": "python",
   "pygments_lexer": "ipython3",
   "version": "3.12.4"
  }
 },
 "nbformat": 4,
 "nbformat_minor": 5
}
