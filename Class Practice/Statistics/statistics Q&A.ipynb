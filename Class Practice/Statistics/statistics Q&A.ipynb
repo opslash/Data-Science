{
 "cells": [
  {
   "cell_type": "code",
   "execution_count": 1,
   "id": "50f3dda1-f68c-46c6-badc-0cf2bcfc170e",
   "metadata": {},
   "outputs": [],
   "source": [
    "import numpy as np\n",
    "import pandas as pd"
   ]
  },
  {
   "cell_type": "code",
   "execution_count": 2,
   "id": "d7d0701c-5364-4886-b9c6-c8467e032bab",
   "metadata": {},
   "outputs": [
    {
     "data": {
      "text/html": [
       "<div>\n",
       "<style scoped>\n",
       "    .dataframe tbody tr th:only-of-type {\n",
       "        vertical-align: middle;\n",
       "    }\n",
       "\n",
       "    .dataframe tbody tr th {\n",
       "        vertical-align: top;\n",
       "    }\n",
       "\n",
       "    .dataframe thead th {\n",
       "        text-align: right;\n",
       "    }\n",
       "</style>\n",
       "<table border=\"1\" class=\"dataframe\">\n",
       "  <thead>\n",
       "    <tr style=\"text-align: right;\">\n",
       "      <th></th>\n",
       "      <th>num</th>\n",
       "    </tr>\n",
       "  </thead>\n",
       "  <tbody>\n",
       "    <tr>\n",
       "      <th>0</th>\n",
       "      <td>5</td>\n",
       "    </tr>\n",
       "    <tr>\n",
       "      <th>1</th>\n",
       "      <td>7</td>\n",
       "    </tr>\n",
       "    <tr>\n",
       "      <th>2</th>\n",
       "      <td>8</td>\n",
       "    </tr>\n",
       "    <tr>\n",
       "      <th>3</th>\n",
       "      <td>5</td>\n",
       "    </tr>\n",
       "    <tr>\n",
       "      <th>4</th>\n",
       "      <td>10</td>\n",
       "    </tr>\n",
       "    <tr>\n",
       "      <th>5</th>\n",
       "      <td>6</td>\n",
       "    </tr>\n",
       "    <tr>\n",
       "      <th>6</th>\n",
       "      <td>9</td>\n",
       "    </tr>\n",
       "    <tr>\n",
       "      <th>7</th>\n",
       "      <td>6</td>\n",
       "    </tr>\n",
       "    <tr>\n",
       "      <th>8</th>\n",
       "      <td>7</td>\n",
       "    </tr>\n",
       "    <tr>\n",
       "      <th>9</th>\n",
       "      <td>8</td>\n",
       "    </tr>\n",
       "    <tr>\n",
       "      <th>10</th>\n",
       "      <td>7</td>\n",
       "    </tr>\n",
       "    <tr>\n",
       "      <th>11</th>\n",
       "      <td>5</td>\n",
       "    </tr>\n",
       "    <tr>\n",
       "      <th>12</th>\n",
       "      <td>8</td>\n",
       "    </tr>\n",
       "    <tr>\n",
       "      <th>13</th>\n",
       "      <td>9</td>\n",
       "    </tr>\n",
       "    <tr>\n",
       "      <th>14</th>\n",
       "      <td>20</td>\n",
       "    </tr>\n",
       "    <tr>\n",
       "      <th>15</th>\n",
       "      <td>6</td>\n",
       "    </tr>\n",
       "    <tr>\n",
       "      <th>16</th>\n",
       "      <td>7</td>\n",
       "    </tr>\n",
       "    <tr>\n",
       "      <th>17</th>\n",
       "      <td>8</td>\n",
       "    </tr>\n",
       "    <tr>\n",
       "      <th>18</th>\n",
       "      <td>6</td>\n",
       "    </tr>\n",
       "    <tr>\n",
       "      <th>19</th>\n",
       "      <td>7</td>\n",
       "    </tr>\n",
       "  </tbody>\n",
       "</table>\n",
       "</div>"
      ],
      "text/plain": [
       "    num\n",
       "0     5\n",
       "1     7\n",
       "2     8\n",
       "3     5\n",
       "4    10\n",
       "5     6\n",
       "6     9\n",
       "7     6\n",
       "8     7\n",
       "9     8\n",
       "10    7\n",
       "11    5\n",
       "12    8\n",
       "13    9\n",
       "14   20\n",
       "15    6\n",
       "16    7\n",
       "17    8\n",
       "18    6\n",
       "19    7"
      ]
     },
     "execution_count": 2,
     "metadata": {},
     "output_type": "execute_result"
    }
   ],
   "source": [
    "df = pd.DataFrame({ 'num' : [5, 7, 8, 5, 10, 6, 9, 6, 7, 8, 7, 5,\n",
    "8, 9, 20, 6, 7, 8, 6, 7]})\n",
    "df"
   ]
  },
  {
   "cell_type": "code",
   "execution_count": 3,
   "id": "ba963d4e-8f72-43ca-a12d-2605fc060dcf",
   "metadata": {},
   "outputs": [
    {
     "data": {
      "text/plain": [
       "num    7.7\n",
       "dtype: float64"
      ]
     },
     "execution_count": 3,
     "metadata": {},
     "output_type": "execute_result"
    }
   ],
   "source": [
    "df.mean()"
   ]
  },
  {
   "cell_type": "code",
   "execution_count": 4,
   "id": "f68ba98b-d3c4-436b-a93a-125ecfc2d87a",
   "metadata": {},
   "outputs": [
    {
     "data": {
      "text/plain": [
       "num    7.0\n",
       "dtype: float64"
      ]
     },
     "execution_count": 4,
     "metadata": {},
     "output_type": "execute_result"
    }
   ],
   "source": [
    "df.median()"
   ]
  },
  {
   "cell_type": "code",
   "execution_count": 5,
   "id": "d3087677-cfc2-4964-822a-9f6705b62eeb",
   "metadata": {},
   "outputs": [
    {
     "data": {
      "text/html": [
       "<div>\n",
       "<style scoped>\n",
       "    .dataframe tbody tr th:only-of-type {\n",
       "        vertical-align: middle;\n",
       "    }\n",
       "\n",
       "    .dataframe tbody tr th {\n",
       "        vertical-align: top;\n",
       "    }\n",
       "\n",
       "    .dataframe thead th {\n",
       "        text-align: right;\n",
       "    }\n",
       "</style>\n",
       "<table border=\"1\" class=\"dataframe\">\n",
       "  <thead>\n",
       "    <tr style=\"text-align: right;\">\n",
       "      <th></th>\n",
       "      <th>num</th>\n",
       "    </tr>\n",
       "  </thead>\n",
       "  <tbody>\n",
       "    <tr>\n",
       "      <th>0</th>\n",
       "      <td>7</td>\n",
       "    </tr>\n",
       "  </tbody>\n",
       "</table>\n",
       "</div>"
      ],
      "text/plain": [
       "   num\n",
       "0    7"
      ]
     },
     "execution_count": 5,
     "metadata": {},
     "output_type": "execute_result"
    }
   ],
   "source": [
    "df.mode()"
   ]
  },
  {
   "cell_type": "code",
   "execution_count": 6,
   "id": "99fd5926-cf91-4e1b-8723-b417d2483191",
   "metadata": {},
   "outputs": [
    {
     "data": {
      "text/plain": [
       "num    3.213459\n",
       "dtype: float64"
      ]
     },
     "execution_count": 6,
     "metadata": {},
     "output_type": "execute_result"
    }
   ],
   "source": [
    "df.std()"
   ]
  },
  {
   "cell_type": "code",
   "execution_count": 7,
   "id": "16514aa7-54c5-439f-a44b-898a789a5ae2",
   "metadata": {},
   "outputs": [
    {
     "data": {
      "text/plain": [
       "num    2.0\n",
       "dtype: float64"
      ]
     },
     "execution_count": 7,
     "metadata": {},
     "output_type": "execute_result"
    }
   ],
   "source": [
    "Q1 = df.quantile(0.25)\n",
    "Q3 = df.quantile(0.75)\n",
    "IQR = Q3 - Q1\n",
    "IQR"
   ]
  },
  {
   "cell_type": "code",
   "execution_count": 8,
   "id": "c5e793a0-124f-4726-8499-87ca13a637d2",
   "metadata": {},
   "outputs": [
    {
     "data": {
      "text/plain": [
       "num    41.733228\n",
       "dtype: float64"
      ]
     },
     "execution_count": 8,
     "metadata": {},
     "output_type": "execute_result"
    }
   ],
   "source": [
    "cv = (df.std()/df.mean())*100\n",
    "cv"
   ]
  },
  {
   "cell_type": "code",
   "execution_count": 9,
   "id": "60a4b60f-2b8e-4d5a-9c4f-c7fa275531cd",
   "metadata": {},
   "outputs": [],
   "source": [
    "ul = Q3+1.5*IQR\n",
    "ll = Q1-1.5*IQR\n",
    "outlier = df[(df<ll) | (df>ul)]\n"
   ]
  },
  {
   "cell_type": "code",
   "execution_count": 10,
   "id": "f8ffead9-47f4-4a43-92f4-d0c093e4d912",
   "metadata": {},
   "outputs": [
    {
     "name": "stdout",
     "output_type": "stream",
     "text": [
      "Outliers:     num\n",
      "14   20\n"
     ]
    }
   ],
   "source": [
    "import pandas as pd\n",
    "\n",
    "# Assuming 'df' is your DataFrame and the column you want to analyze is 'column_name'\n",
    "\n",
    "Q1 = df['num'].quantile(0.25)\n",
    "Q3 = df['num'].quantile(0.75)\n",
    "IQR = Q3 - Q1\n",
    "\n",
    "# Calculate upper and lower bounds\n",
    "ul = Q3 + 1.5 * IQR\n",
    "ll = Q1 - 1.5 * IQR\n",
    "\n",
    "# Identify outliers\n",
    "outliers = df[(df['num'] < ll) | (df['num'] > ul)]\n",
    "\n",
    "print(\"Outliers:\", outliers)"
   ]
  },
  {
   "cell_type": "code",
   "execution_count": 11,
   "id": "b0a1ad32-2da1-422c-934b-1377b77442e3",
   "metadata": {},
   "outputs": [],
   "source": [
    "df = pd.DataFrame( [{'Name': 'Alice', 'Age': 25, 'Salary': 50000, 'Location': 'New York', 'Department': 'IT', 'Experience': 2},\n",
    "                    {'Name': 'Bob', 'Age': 30, 'Salary': 60000, 'Location': 'Los Angeles', 'Department': 'HR', 'Experience': 5}, \n",
    "                    {'Name': 'Charlie', 'Age': 28, 'Salary': 55000, 'Location': 'Chicago', 'Department': 'Finance', 'Experience': 3}, \n",
    "                    {'Name': 'David', 'Age': 35, 'Salary': 70000, 'Location': 'Houston', 'Department': 'IT', 'Experience': 7}, \n",
    "                    {'Name': 'Emily', 'Age': 27, 'Salary': 52000, 'Location': 'Phoenix', 'Department': 'HR', 'Experience': 2}, \n",
    "                    {'Name': 'Frank', 'Age': 40, 'Salary': 80000, 'Location': 'Philadelphia', 'Department': 'Finance', 'Experience': 10}, \n",
    "                    {'Name': 'Grace', 'Age': 32, 'Salary': 65000, 'Location': 'San Antonio', 'Department': 'IT', 'Experience': 6}, \n",
    "                    {'Name': 'Henry', 'Age': 29, 'Salary': 58000, 'Location': 'San Diego', 'Department': 'HR', 'Experience': 4},\n",
    "                    {'Name': 'Ivy', 'Age': 31, 'Salary': 62000, 'Location': 'Dallas', 'Department': 'Finance', 'Experience': 5},\n",
    "                    {'Name': 'Jack', 'Age': 26, 'Salary': 51000, 'Location': 'San Jose', 'Department': 'IT', 'Experience': 3}] )"
   ]
  },
  {
   "cell_type": "code",
   "execution_count": 12,
   "id": "099df6e9-6675-4a27-bf01-f638fdc9f67b",
   "metadata": {},
   "outputs": [
    {
     "data": {
      "text/html": [
       "<div>\n",
       "<style scoped>\n",
       "    .dataframe tbody tr th:only-of-type {\n",
       "        vertical-align: middle;\n",
       "    }\n",
       "\n",
       "    .dataframe tbody tr th {\n",
       "        vertical-align: top;\n",
       "    }\n",
       "\n",
       "    .dataframe thead th {\n",
       "        text-align: right;\n",
       "    }\n",
       "</style>\n",
       "<table border=\"1\" class=\"dataframe\">\n",
       "  <thead>\n",
       "    <tr style=\"text-align: right;\">\n",
       "      <th></th>\n",
       "      <th>Name</th>\n",
       "      <th>Age</th>\n",
       "      <th>Salary</th>\n",
       "      <th>Location</th>\n",
       "      <th>Department</th>\n",
       "      <th>Experience</th>\n",
       "    </tr>\n",
       "  </thead>\n",
       "  <tbody>\n",
       "    <tr>\n",
       "      <th>0</th>\n",
       "      <td>Alice</td>\n",
       "      <td>25</td>\n",
       "      <td>50000</td>\n",
       "      <td>New York</td>\n",
       "      <td>IT</td>\n",
       "      <td>2</td>\n",
       "    </tr>\n",
       "    <tr>\n",
       "      <th>1</th>\n",
       "      <td>Bob</td>\n",
       "      <td>30</td>\n",
       "      <td>60000</td>\n",
       "      <td>Los Angeles</td>\n",
       "      <td>HR</td>\n",
       "      <td>5</td>\n",
       "    </tr>\n",
       "    <tr>\n",
       "      <th>2</th>\n",
       "      <td>Charlie</td>\n",
       "      <td>28</td>\n",
       "      <td>55000</td>\n",
       "      <td>Chicago</td>\n",
       "      <td>Finance</td>\n",
       "      <td>3</td>\n",
       "    </tr>\n",
       "    <tr>\n",
       "      <th>3</th>\n",
       "      <td>David</td>\n",
       "      <td>35</td>\n",
       "      <td>70000</td>\n",
       "      <td>Houston</td>\n",
       "      <td>IT</td>\n",
       "      <td>7</td>\n",
       "    </tr>\n",
       "    <tr>\n",
       "      <th>4</th>\n",
       "      <td>Emily</td>\n",
       "      <td>27</td>\n",
       "      <td>52000</td>\n",
       "      <td>Phoenix</td>\n",
       "      <td>HR</td>\n",
       "      <td>2</td>\n",
       "    </tr>\n",
       "    <tr>\n",
       "      <th>5</th>\n",
       "      <td>Frank</td>\n",
       "      <td>40</td>\n",
       "      <td>80000</td>\n",
       "      <td>Philadelphia</td>\n",
       "      <td>Finance</td>\n",
       "      <td>10</td>\n",
       "    </tr>\n",
       "    <tr>\n",
       "      <th>6</th>\n",
       "      <td>Grace</td>\n",
       "      <td>32</td>\n",
       "      <td>65000</td>\n",
       "      <td>San Antonio</td>\n",
       "      <td>IT</td>\n",
       "      <td>6</td>\n",
       "    </tr>\n",
       "    <tr>\n",
       "      <th>7</th>\n",
       "      <td>Henry</td>\n",
       "      <td>29</td>\n",
       "      <td>58000</td>\n",
       "      <td>San Diego</td>\n",
       "      <td>HR</td>\n",
       "      <td>4</td>\n",
       "    </tr>\n",
       "    <tr>\n",
       "      <th>8</th>\n",
       "      <td>Ivy</td>\n",
       "      <td>31</td>\n",
       "      <td>62000</td>\n",
       "      <td>Dallas</td>\n",
       "      <td>Finance</td>\n",
       "      <td>5</td>\n",
       "    </tr>\n",
       "    <tr>\n",
       "      <th>9</th>\n",
       "      <td>Jack</td>\n",
       "      <td>26</td>\n",
       "      <td>51000</td>\n",
       "      <td>San Jose</td>\n",
       "      <td>IT</td>\n",
       "      <td>3</td>\n",
       "    </tr>\n",
       "  </tbody>\n",
       "</table>\n",
       "</div>"
      ],
      "text/plain": [
       "      Name  Age  Salary      Location Department  Experience\n",
       "0    Alice   25   50000      New York         IT           2\n",
       "1      Bob   30   60000   Los Angeles         HR           5\n",
       "2  Charlie   28   55000       Chicago    Finance           3\n",
       "3    David   35   70000       Houston         IT           7\n",
       "4    Emily   27   52000       Phoenix         HR           2\n",
       "5    Frank   40   80000  Philadelphia    Finance          10\n",
       "6    Grace   32   65000   San Antonio         IT           6\n",
       "7    Henry   29   58000     San Diego         HR           4\n",
       "8      Ivy   31   62000        Dallas    Finance           5\n",
       "9     Jack   26   51000      San Jose         IT           3"
      ]
     },
     "execution_count": 12,
     "metadata": {},
     "output_type": "execute_result"
    }
   ],
   "source": [
    "df"
   ]
  },
  {
   "cell_type": "code",
   "execution_count": 13,
   "id": "9fde564a-a5b5-44ef-b933-59f51763e4cb",
   "metadata": {},
   "outputs": [
    {
     "data": {
      "text/plain": [
       "60300.0"
      ]
     },
     "execution_count": 13,
     "metadata": {},
     "output_type": "execute_result"
    }
   ],
   "source": [
    "df['Salary'].mean()"
   ]
  },
  {
   "cell_type": "code",
   "execution_count": 14,
   "id": "653e4e35-d5c4-477d-ab6a-0906b2177eba",
   "metadata": {},
   "outputs": [
    {
     "data": {
      "text/plain": [
       "29.5"
      ]
     },
     "execution_count": 14,
     "metadata": {},
     "output_type": "execute_result"
    }
   ],
   "source": [
    "df['Age'].median()"
   ]
  },
  {
   "cell_type": "code",
   "execution_count": 15,
   "id": "2ee637ea-4c76-42e7-8d2f-e091966c16da",
   "metadata": {},
   "outputs": [
    {
     "data": {
      "text/plain": [
       "0    IT\n",
       "Name: Department, dtype: object"
      ]
     },
     "execution_count": 15,
     "metadata": {},
     "output_type": "execute_result"
    }
   ],
   "source": [
    "df['Department'].mode()"
   ]
  },
  {
   "cell_type": "code",
   "execution_count": 16,
   "id": "5e028f06-4ab6-4ee2-a8bd-515238400bb1",
   "metadata": {},
   "outputs": [
    {
     "data": {
      "text/plain": [
       "2.496664441476534"
      ]
     },
     "execution_count": 16,
     "metadata": {},
     "output_type": "execute_result"
    }
   ],
   "source": [
    "df['Experience'].std()"
   ]
  },
  {
   "cell_type": "code",
   "execution_count": 17,
   "id": "1787d5da-2cac-4322-af5d-496613be30a0",
   "metadata": {},
   "outputs": [
    {
     "data": {
      "text/plain": [
       "11500.0"
      ]
     },
     "execution_count": 17,
     "metadata": {},
     "output_type": "execute_result"
    }
   ],
   "source": [
    "Q1 = df['Salary'].quantile(0.25)\n",
    "Q3 = df['Salary'].quantile(0.75)\n",
    "IQR = Q3 - Q1\n",
    "IQR"
   ]
  },
  {
   "cell_type": "code",
   "execution_count": 18,
   "id": "e7797cc5-bcfc-41c4-b067-4509b4bec180",
   "metadata": {},
   "outputs": [
    {
     "data": {
      "text/plain": [
       "14.926672733188774"
      ]
     },
     "execution_count": 18,
     "metadata": {},
     "output_type": "execute_result"
    }
   ],
   "source": [
    "CV = (df['Age'].std()/df['Age'].mean())*100\n",
    "CV"
   ]
  },
  {
   "cell_type": "code",
   "execution_count": 19,
   "id": "23615e3a-96a8-4acb-893a-2a5b15222442",
   "metadata": {},
   "outputs": [
    {
     "data": {
      "text/html": [
       "<div>\n",
       "<style scoped>\n",
       "    .dataframe tbody tr th:only-of-type {\n",
       "        vertical-align: middle;\n",
       "    }\n",
       "\n",
       "    .dataframe tbody tr th {\n",
       "        vertical-align: top;\n",
       "    }\n",
       "\n",
       "    .dataframe thead th {\n",
       "        text-align: right;\n",
       "    }\n",
       "</style>\n",
       "<table border=\"1\" class=\"dataframe\">\n",
       "  <thead>\n",
       "    <tr style=\"text-align: right;\">\n",
       "      <th></th>\n",
       "      <th>Name</th>\n",
       "      <th>Age</th>\n",
       "      <th>Salary</th>\n",
       "      <th>Location</th>\n",
       "      <th>Department</th>\n",
       "      <th>Experience</th>\n",
       "    </tr>\n",
       "  </thead>\n",
       "  <tbody>\n",
       "  </tbody>\n",
       "</table>\n",
       "</div>"
      ],
      "text/plain": [
       "Empty DataFrame\n",
       "Columns: [Name, Age, Salary, Location, Department, Experience]\n",
       "Index: []"
      ]
     },
     "execution_count": 19,
     "metadata": {},
     "output_type": "execute_result"
    }
   ],
   "source": [
    "ul = Q3 + 1.5 * IQR\n",
    "ll = Q1 - 1.5 * IQR\n",
    "outlier = df[(df['Salary'] > ul) | (df['Salary'] < ll)]\n",
    "outlier"
   ]
  },
  {
   "cell_type": "code",
   "execution_count": 20,
   "id": "4422a3c8-7821-4a83-9b6f-4a90b596ed55",
   "metadata": {},
   "outputs": [
    {
     "data": {
      "text/plain": [
       "4.5"
      ]
     },
     "execution_count": 20,
     "metadata": {},
     "output_type": "execute_result"
    }
   ],
   "source": [
    "df[df['Department'] == 'IT']['Experience'].mean()"
   ]
  },
  {
   "cell_type": "code",
   "execution_count": 21,
   "id": "22c7dc1d-477a-4efc-b495-970747bbf624",
   "metadata": {},
   "outputs": [
    {
     "data": {
      "text/plain": [
       "40"
      ]
     },
     "execution_count": 21,
     "metadata": {},
     "output_type": "execute_result"
    }
   ],
   "source": [
    "df[df['Department'] == 'Finance']['Age'].max()"
   ]
  },
  {
   "cell_type": "code",
   "execution_count": 22,
   "id": "e41d47fa-7693-436e-a3b3-a9016b03c186",
   "metadata": {},
   "outputs": [
    {
     "data": {
      "text/plain": [
       "65000"
      ]
     },
     "execution_count": 22,
     "metadata": {},
     "output_type": "execute_result"
    }
   ],
   "source": [
    "df[df['Experience'] > 5]['Salary'].min()"
   ]
  },
  {
   "cell_type": "code",
   "execution_count": 23,
   "id": "135d0f64-9884-41ed-aa48-42bd495df44b",
   "metadata": {},
   "outputs": [
    {
     "data": {
      "text/plain": [
       "15"
      ]
     },
     "execution_count": 23,
     "metadata": {},
     "output_type": "execute_result"
    }
   ],
   "source": [
    "max = df['Age'].max()\n",
    "min = df['Age'].min()\n",
    "range = max - min\n",
    "range"
   ]
  },
  {
   "cell_type": "code",
   "execution_count": 24,
   "id": "c981106d-f6e5-412f-a949-e590b8aa32a7",
   "metadata": {},
   "outputs": [
    {
     "data": {
      "text/plain": [
       "Department\n",
       "IT         4\n",
       "HR         3\n",
       "Finance    3\n",
       "Name: count, dtype: int64"
      ]
     },
     "execution_count": 24,
     "metadata": {},
     "output_type": "execute_result"
    }
   ],
   "source": [
    "df['Department'].value_counts()"
   ]
  },
  {
   "cell_type": "code",
   "execution_count": 25,
   "id": "6e514a38-3c34-4f66-8b7b-6474469084ec",
   "metadata": {},
   "outputs": [
    {
     "data": {
      "text/plain": [
       "28.666666666666668"
      ]
     },
     "execution_count": 25,
     "metadata": {},
     "output_type": "execute_result"
    }
   ],
   "source": [
    "df[df['Department'] == 'HR']['Age'].mean()"
   ]
  },
  {
   "cell_type": "code",
   "execution_count": 26,
   "id": "bfef33d9-a22f-4f3b-87e5-8eff4fb15a09",
   "metadata": {},
   "outputs": [
    {
     "data": {
      "text/plain": [
       "15.655815380518897"
      ]
     },
     "execution_count": 26,
     "metadata": {},
     "output_type": "execute_result"
    }
   ],
   "source": [
    "CV = (df['Salary'].std()/df['Salary'].mean())*100\n",
    "CV"
   ]
  },
  {
   "cell_type": "code",
   "execution_count": 27,
   "id": "8dfd7a29-ac03-4fc8-9448-48299fc71b00",
   "metadata": {},
   "outputs": [
    {
     "data": {
      "text/plain": [
       "0         Chicago\n",
       "1          Dallas\n",
       "2         Houston\n",
       "3     Los Angeles\n",
       "4        New York\n",
       "5    Philadelphia\n",
       "6         Phoenix\n",
       "7     San Antonio\n",
       "8       San Diego\n",
       "9        San Jose\n",
       "Name: Location, dtype: object"
      ]
     },
     "execution_count": 27,
     "metadata": {},
     "output_type": "execute_result"
    }
   ],
   "source": [
    "df['Location'].mode()"
   ]
  },
  {
   "cell_type": "code",
   "execution_count": 28,
   "id": "96522f48-377b-426b-aa28-f245c7003809",
   "metadata": {},
   "outputs": [
    {
     "data": {
      "image/png": "[encoded data removed]",
      "text/plain": [
       "<Figure size 640x480 with 1 Axes>"
      ]
     },
     "metadata": {},
     "output_type": "display_data"
    }
   ],
   "source": [
    "import matplotlib.pyplot as plt\n",
    "plt.boxplot(df['Experience'])\n",
    "plt.xlabel('Experience')\n",
    "plt.ylabel('Value')\n",
    "plt.title('Boxplot of Experience')\n",
    "plt.show()"
   ]
  },
  {
   "cell_type": "code",
   "execution_count": 30,
   "id": "76991e5d-1de4-45d5-ab54-ea617e83acc0",
   "metadata": {},
   "outputs": [
    {
     "data": {
      "text/html": [
       "<div>\n",
       "<style scoped>\n",
       "    .dataframe tbody tr th:only-of-type {\n",
       "        vertical-align: middle;\n",
       "    }\n",
       "\n",
       "    .dataframe tbody tr th {\n",
       "        vertical-align: top;\n",
       "    }\n",
       "\n",
       "    .dataframe thead th {\n",
       "        text-align: right;\n",
       "    }\n",
       "</style>\n",
       "<table border=\"1\" class=\"dataframe\">\n",
       "  <thead>\n",
       "    <tr style=\"text-align: right;\">\n",
       "      <th></th>\n",
       "      <th>student_name</th>\n",
       "      <th>gender</th>\n",
       "      <th>mark</th>\n",
       "      <th>study_hours</th>\n",
       "    </tr>\n",
       "  </thead>\n",
       "  <tbody>\n",
       "    <tr>\n",
       "      <th>0</th>\n",
       "      <td>Alice</td>\n",
       "      <td>F</td>\n",
       "      <td>85</td>\n",
       "      <td>5</td>\n",
       "    </tr>\n",
       "    <tr>\n",
       "      <th>1</th>\n",
       "      <td>Bob</td>\n",
       "      <td>M</td>\n",
       "      <td>78</td>\n",
       "      <td>4</td>\n",
       "    </tr>\n",
       "    <tr>\n",
       "      <th>2</th>\n",
       "      <td>Charlie</td>\n",
       "      <td>M</td>\n",
       "      <td>92</td>\n",
       "      <td>6</td>\n",
       "    </tr>\n",
       "    <tr>\n",
       "      <th>3</th>\n",
       "      <td>David</td>\n",
       "      <td>F</td>\n",
       "      <td>88</td>\n",
       "      <td>5</td>\n",
       "    </tr>\n",
       "    <tr>\n",
       "      <th>4</th>\n",
       "      <td>Eve</td>\n",
       "      <td>F</td>\n",
       "      <td>95</td>\n",
       "      <td>7</td>\n",
       "    </tr>\n",
       "    <tr>\n",
       "      <th>5</th>\n",
       "      <td>Frank</td>\n",
       "      <td>M</td>\n",
       "      <td>75</td>\n",
       "      <td>3</td>\n",
       "    </tr>\n",
       "    <tr>\n",
       "      <th>6</th>\n",
       "      <td>Grace</td>\n",
       "      <td>F</td>\n",
       "      <td>80</td>\n",
       "      <td>4</td>\n",
       "    </tr>\n",
       "    <tr>\n",
       "      <th>7</th>\n",
       "      <td>Henry</td>\n",
       "      <td>M</td>\n",
       "      <td>90</td>\n",
       "      <td>6</td>\n",
       "    </tr>\n",
       "    <tr>\n",
       "      <th>8</th>\n",
       "      <td>Iris</td>\n",
       "      <td>F</td>\n",
       "      <td>82</td>\n",
       "      <td>5</td>\n",
       "    </tr>\n",
       "    <tr>\n",
       "      <th>9</th>\n",
       "      <td>Jack</td>\n",
       "      <td>M</td>\n",
       "      <td>79</td>\n",
       "      <td>4</td>\n",
       "    </tr>\n",
       "  </tbody>\n",
       "</table>\n",
       "</div>"
      ],
      "text/plain": [
       "  student_name gender  mark  study_hours\n",
       "0        Alice      F    85            5\n",
       "1          Bob      M    78            4\n",
       "2      Charlie      M    92            6\n",
       "3        David      F    88            5\n",
       "4          Eve      F    95            7\n",
       "5        Frank      M    75            3\n",
       "6        Grace      F    80            4\n",
       "7        Henry      M    90            6\n",
       "8         Iris      F    82            5\n",
       "9         Jack      M    79            4"
      ]
     },
     "execution_count": 30,
     "metadata": {},
     "output_type": "execute_result"
    }
   ],
   "source": [
    "df = pd.DataFrame({\n",
    "    'student_name': ['Alice', 'Bob', 'Charlie', 'David', 'Eve', 'Frank', 'Grace', 'Henry', 'Iris', 'Jack'],\n",
    "    'gender': ['F', 'M', 'M', 'F', 'F', 'M', 'F', 'M', 'F', 'M'],\n",
    "    'mark': [85, 78, 92, 88, 95, 75, 80, 90, 82, 79],\n",
    "    'study_hours': [5, 4, 6, 5, 7, 3, 4, 6, 5, 4]\n",
    "})\n",
    "df"
   ]
  },
  {
   "cell_type": "code",
   "execution_count": 34,
   "id": "0a856242-e484-4714-b5c3-047edb17aae6",
   "metadata": {},
   "outputs": [
    {
     "data": {
      "text/plain": [
       "0.5"
      ]
     },
     "execution_count": 34,
     "metadata": {},
     "output_type": "execute_result"
    }
   ],
   "source": [
    "probability_of_occurence_of_F = df['gender'].value_counts()['F']/len(df)\n",
    "probability_of_occurence_of_F"
   ]
  },
  {
   "cell_type": "code",
   "execution_count": 44,
   "id": "9cb7d9fb-e171-44d4-81c0-cea3ba5a3376",
   "metadata": {},
   "outputs": [
    {
     "data": {
      "image/png": "[encoded data removed]",
      "text/plain": [
       "<Figure size 640x480 with 1 Axes>"
      ]
     },
     "metadata": {},
     "output_type": "display_data"
    }
   ],
   "source": [
    "import seaborn as sns\n",
    "sns.countplot( x = df['gender'])\n",
    "plt.show()"
   ]
  },
  {
   "cell_type": "code",
   "execution_count": 57,
   "id": "6e310641-4d92-42ac-ac4d-5edf736d62cf",
   "metadata": {},
   "outputs": [
    {
     "data": {
      "text/plain": [
       "<Axes: xlabel='mark', ylabel='Probability'>"
      ]
     },
     "execution_count": 57,
     "metadata": {},
     "output_type": "execute_result"
    },
    {
     "data": {
      "image/png": "[encoded data removed]",
      "text/plain": [
       "<Figure size 640x480 with 1 Axes>"
      ]
     },
     "metadata": {},
     "output_type": "display_data"
    }
   ],
   "source": [
    "sns.histplot(data = df['mark'] , stat = 'probability' ,kde=True)"
   ]
  },
  {
   "cell_type": "code",
   "execution_count": 59,
   "id": "45aaf4ce-3d40-4128-93bd-02d2c357099b",
   "metadata": {},
   "outputs": [
    {
     "data": {
      "text/plain": [
       "<Axes: xlabel='mark', ylabel='Probability'>"
      ]
     },
     "execution_count": 59,
     "metadata": {},
     "output_type": "execute_result"
    },
    {
     "data": {
      "image/png": "[encoded data removed]",
      "text/plain": [
       "<Figure size 640x480 with 1 Axes>"
      ]
     },
     "metadata": {},
     "output_type": "display_data"
    }
   ],
   "source": [
    "sns.histplot(data=df['mark'] ,stat='probability' ,kde=True ,cumulative=True)"
   ]
  },
  {
   "cell_type": "code",
   "execution_count": 61,
   "id": "5d947294-53b0-4998-aafa-6f0218641235",
   "metadata": {},
   "outputs": [
    {
     "data": {
      "text/plain": [
       "0.23733508555202854"
      ]
     },
     "execution_count": 61,
     "metadata": {},
     "output_type": "execute_result"
    }
   ],
   "source": [
    "df['mark'].skew()"
   ]
  },
  {
   "cell_type": "code",
   "execution_count": 80,
   "id": "b0bbd956-d17f-4950-9a90-494672433075",
   "metadata": {},
   "outputs": [
    {
     "name": "stdout",
     "output_type": "stream",
     "text": [
      "Covariance: 7.711111111111113\n"
     ]
    },
    {
     "data": {
      "text/plain": [
       "array([[44.26666667,  7.71111111],\n",
       "       [ 7.71111111,  1.43333333]])"
      ]
     },
     "execution_count": 80,
     "metadata": {},
     "output_type": "execute_result"
    }
   ],
   "source": [
    "covariance = df['study_hours'].cov(df['mark'])\n",
    "print(f\"Covariance: {covariance}\")\n",
    "\n",
    "# OR\n",
    "\n",
    "cov_matrix = np.cov(df['mark'] , df['study_hours'])\n",
    "cov_matrix"
   ]
  },
  {
   "cell_type": "code",
   "execution_count": 81,
   "id": "3c1604c4-1f53-493b-81b2-98dca198738f",
   "metadata": {},
   "outputs": [
    {
     "data": {
      "text/plain": [
       "0.9680659624248837"
      ]
     },
     "execution_count": 81,
     "metadata": {},
     "output_type": "execute_result"
    }
   ],
   "source": [
    "correlation = df['study_hours'].corr(df['mark'])\n",
    "correlation"
   ]
  },
  {
   "cell_type": "code",
   "execution_count": 84,
   "id": "b1509c2d-4899-4d87-8e23-962cb50c65d2",
   "metadata": {},
   "outputs": [
    {
     "data": {
      "image/png": "[encoded data removed]",
      "text/plain": [
       "<Figure size 640x480 with 1 Axes>"
      ]
     },
     "metadata": {},
     "output_type": "display_data"
    }
   ],
   "source": [
    "sns.kdeplot(df['mark'])\n",
    "plt.show()"
   ]
  },
  {
   "cell_type": "code",
   "execution_count": 85,
   "id": "57d03395-91f5-4012-b85d-4054d45f2ebe",
   "metadata": {},
   "outputs": [
    {
     "data": {
      "text/plain": [
       "-2.5"
      ]
     },
     "execution_count": 85,
     "metadata": {},
     "output_type": "execute_result"
    }
   ],
   "source": [
    "value = 45\n",
    "mean = 70\n",
    "standard_deviation = 10\n",
    "\n",
    "z_score = ( value - mean ) / standard_deviation\n",
    "z_score"
   ]
  },
  {
   "cell_type": "code",
   "execution_count": 87,
   "id": "01f793be-9023-40f6-aaad-115849b10a8d",
   "metadata": {},
   "outputs": [
    {
     "name": "stdout",
     "output_type": "stream",
     "text": [
      "Probability of a z-score less than or equal to -1.1: 0.13566606094638267\n"
     ]
    }
   ],
   "source": [
    "from scipy.stats import norm\n",
    "\n",
    "z_score = -1.1\n",
    "\n",
    "probability = norm.cdf(z_score)\n",
    "print(f\"Probability of a z-score less than or equal to -1.1: {probability}\")"
   ]
  },
  {
   "cell_type": "code",
   "execution_count": 89,
   "id": "3dfeef9a-f9e9-4af0-8852-5a4c3e3c679d",
   "metadata": {},
   "outputs": [
    {
     "name": "stdout",
     "output_type": "stream",
     "text": [
      "Z-value for a probability of 0.99: 2.3263478740408408\n"
     ]
    }
   ],
   "source": [
    "probability = 0.99\n",
    "\n",
    "z_value =norm.ppf(probability)\n",
    "print(f\"Z-value for a probability of {probability}: {z_value}\")"
   ]
  },
  {
   "cell_type": "code",
   "execution_count": null,
   "id": "8c007c75-bc56-483e-b1ee-e373196ff5ca",
   "metadata": {},
   "outputs": [],
   "source": []
  }
 ],
 "metadata": {
  "kernelspec": {
   "display_name": "Python 3 (ipykernel)",
   "language": "python",
   "name": "python3"
  },
  "language_info": {
   "codemirror_mode": {
    "name": "ipython",
    "version": 3
   },
   "file_extension": ".py",
   "mimetype": "text/x-python",
   "name": "python",
   "nbconvert_exporter": "python",
   "pygments_lexer": "ipython3",
   "version": "3.12.4"
  }
 },
 "nbformat": 4,
 "nbformat_minor": 5
}
